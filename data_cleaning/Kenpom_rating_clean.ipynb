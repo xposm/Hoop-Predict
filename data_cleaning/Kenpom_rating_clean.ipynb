{
 "cells": [
  {
   "cell_type": "code",
   "execution_count": 304,
   "metadata": {},
   "outputs": [],
   "source": [
    "import pandas as pd \n",
    "import os \n",
    "import numpy as np\n",
    "import re"
   ]
  },
  {
   "cell_type": "code",
   "execution_count": 305,
   "metadata": {},
   "outputs": [],
   "source": [
    "INPUT_PATH = \"/Users/jimmyhe/Desktop/ML/KaggleCompetitions/NCAA/DataPreparation/Kenpom/KenpomDataCollectionFinal/\"\n",
    "OUTPUT_PATH = \"/Users/jimmyhe/Desktop/ML/KaggleCompetitions/NCAA/DataPreparation/Kenpom/KenPomCleanHeaders/\""
   ]
  },
  {
   "cell_type": "code",
   "execution_count": 306,
   "metadata": {},
   "outputs": [
    {
     "name": "stdout",
     "output_type": "stream",
     "text": [
      "Processing file: Kenpom_2021_03_19.csv\n",
      "Processing file: Kenpom_2022_03_17.csv\n",
      "Processing file: Kenpom_2019_03_21.csv\n",
      "Processing file: Kenpom_2025-03-19.csv\n",
      "Processing file: Kenpom_2023_03_16.csv\n",
      "Processing file: Kenpom_2018_03_15.csv\n",
      "Processing file: Kenpom_2024_03_21.csv\n",
      "Processing complete. Cleaned files saved to the output directory.\n"
     ]
    }
   ],
   "source": [
    "\n",
    "def remove_rk_rows(df):\n",
    "    rk_indices = df.index[df.iloc[:, 0] == \"Rk\"].tolist()\n",
    "    if len(rk_indices) > 0:\n",
    "        rk_indices_to_remove = [idx for idx in rk_indices if idx != rk_indices[0]]\n",
    "    else:\n",
    "        rk_indices_to_remove = []\n",
    "    rows_to_remove = set(rk_indices_to_remove + [idx - 1 for idx in rk_indices_to_remove if idx - 1 >= 0])\n",
    "    df_cleaned = df.drop(rows_to_remove).reset_index(drop=True)\n",
    "    return df_cleaned\n",
    "\n",
    "# Ensure the output directory exists\n",
    "os.makedirs(OUTPUT_PATH, exist_ok=True)\n",
    "\n",
    "# Iterate over all CSV files in the input directory\n",
    "for filename in os.listdir(INPUT_PATH):\n",
    "    if filename.endswith(\".csv\"):  # Process only .csv files\n",
    "        print(f\"Processing file: {filename}\")\n",
    "        file_path = os.path.join(INPUT_PATH, filename)\n",
    "        df = pd.read_csv(file_path)\n",
    "        \n",
    "        # Step 1: Clean the dataframe by removing the \"Rk\" rows\n",
    "        cleaned_df = remove_rk_rows(df)\n",
    "        cleaned_df = cleaned_df.iloc[:, [0, 1, 3, 4, 6, 8]]\n",
    "        cleaned_df.columns = ['Rk','Team','NetRtg','ORtg','DRtg','AdjT']\n",
    "        cleaned_df = cleaned_df.drop(0, axis=0)\n",
    "\n",
    "\n",
    "    if cleaned_df.shape[1] > 1 and cleaned_df.iloc[:, 1].dtype == 'object':  # Check if it's a string\n",
    "        def remove_last_part_if_number(string):\n",
    "            parts = string.split(' ')  # Split the string into parts\n",
    "            if parts[-1].isdigit():  # Check if the last part is a number\n",
    "                return ' '.join(parts[:-1])  # Return the string without the last part\n",
    "            else:\n",
    "                return string  # Return the string unchanged if the last part is not a number\n",
    "        \n",
    "        cleaned_df.iloc[:, 1] = cleaned_df.iloc[:, 1].apply(remove_last_part_if_number)\n",
    "\n",
    "\n",
    "        \n",
    "\n",
    "        cleaned_df.rename(columns={'Team': 'TeamName'}, inplace=True)\n",
    "        \n",
    "        # Save the cleaned DataFrame to a new file\n",
    "        filename = \"ColumnCleaned_\" + filename\n",
    "        output_path = os.path.join(OUTPUT_PATH, filename)\n",
    "        cleaned_df.to_csv(output_path, index=False)\n",
    "\n",
    "print(\"Processing complete. Cleaned files saved to the output directory.\")\n"
   ]
  },
  {
   "cell_type": "code",
   "execution_count": 307,
   "metadata": {},
   "outputs": [
    {
     "name": "stdout",
     "output_type": "stream",
     "text": [
      "ColumnCleaned_Kenpom_2023_03_16.csv shape: (363, 7)\n",
      "ColumnCleaned_Kenpom_2025-03-19.csv shape: (364, 7)\n",
      "ColumnCleaned_Kenpom_2019_03_21.csv shape: (353, 7)\n",
      "ColumnCleaned_Kenpom_2022_03_17.csv shape: (358, 7)\n",
      "ColumnCleaned_Kenpom_2021_03_19.csv shape: (357, 7)\n",
      "ColumnCleaned_Kenpom_2024_03_21.csv shape: (362, 7)\n",
      "ColumnCleaned_Kenpom_2018_03_15.csv shape: (351, 7)\n",
      "Final Shape: (2508, 7)\n"
     ]
    },
    {
     "data": {
      "text/html": [
       "<div>\n",
       "<style scoped>\n",
       "    .dataframe tbody tr th:only-of-type {\n",
       "        vertical-align: middle;\n",
       "    }\n",
       "\n",
       "    .dataframe tbody tr th {\n",
       "        vertical-align: top;\n",
       "    }\n",
       "\n",
       "    .dataframe thead th {\n",
       "        text-align: right;\n",
       "    }\n",
       "</style>\n",
       "<table border=\"1\" class=\"dataframe\">\n",
       "  <thead>\n",
       "    <tr style=\"text-align: right;\">\n",
       "      <th></th>\n",
       "      <th>Rk</th>\n",
       "      <th>TeamName</th>\n",
       "      <th>NetRtg</th>\n",
       "      <th>ORtg</th>\n",
       "      <th>DRtg</th>\n",
       "      <th>AdjT</th>\n",
       "      <th>Season</th>\n",
       "    </tr>\n",
       "  </thead>\n",
       "  <tbody>\n",
       "    <tr>\n",
       "      <th>363</th>\n",
       "      <td>1</td>\n",
       "      <td>Duke</td>\n",
       "      <td>38.25</td>\n",
       "      <td>128.0</td>\n",
       "      <td>89.8</td>\n",
       "      <td>65.8</td>\n",
       "      <td>2025</td>\n",
       "    </tr>\n",
       "    <tr>\n",
       "      <th>364</th>\n",
       "      <td>2</td>\n",
       "      <td>Florida</td>\n",
       "      <td>36.19</td>\n",
       "      <td>128.6</td>\n",
       "      <td>92.5</td>\n",
       "      <td>69.6</td>\n",
       "      <td>2025</td>\n",
       "    </tr>\n",
       "    <tr>\n",
       "      <th>365</th>\n",
       "      <td>3</td>\n",
       "      <td>Houston</td>\n",
       "      <td>35.41</td>\n",
       "      <td>123.2</td>\n",
       "      <td>87.8</td>\n",
       "      <td>61.5</td>\n",
       "      <td>2025</td>\n",
       "    </tr>\n",
       "    <tr>\n",
       "      <th>366</th>\n",
       "      <td>4</td>\n",
       "      <td>Auburn</td>\n",
       "      <td>35.11</td>\n",
       "      <td>128.5</td>\n",
       "      <td>93.4</td>\n",
       "      <td>67.6</td>\n",
       "      <td>2025</td>\n",
       "    </tr>\n",
       "    <tr>\n",
       "      <th>367</th>\n",
       "      <td>5</td>\n",
       "      <td>Tennessee</td>\n",
       "      <td>31.13</td>\n",
       "      <td>120.3</td>\n",
       "      <td>89.1</td>\n",
       "      <td>63.7</td>\n",
       "      <td>2025</td>\n",
       "    </tr>\n",
       "  </tbody>\n",
       "</table>\n",
       "</div>"
      ],
      "text/plain": [
       "     Rk   TeamName  NetRtg   ORtg  DRtg  AdjT Season\n",
       "363   1       Duke   38.25  128.0  89.8  65.8   2025\n",
       "364   2    Florida   36.19  128.6  92.5  69.6   2025\n",
       "365   3    Houston   35.41  123.2  87.8  61.5   2025\n",
       "366   4     Auburn   35.11  128.5  93.4  67.6   2025\n",
       "367   5  Tennessee   31.13  120.3  89.1  63.7   2025"
      ]
     },
     "execution_count": 307,
     "metadata": {},
     "output_type": "execute_result"
    }
   ],
   "source": [
    "CLEAN_PATH = \"/Users/jimmyhe/Desktop/ML/KaggleCompetitions/NCAA/DataPreparation/Kenpom/KenPomCleanHeaders/\"\n",
    "\n",
    "\n",
    "all_dfs = []\n",
    "\n",
    "for filename in os.listdir(CLEAN_PATH):\n",
    "    if '.DS_Store' in filename:\n",
    "        continue\n",
    "    filepath = os.path.join(CLEAN_PATH, filename)\n",
    "    \n",
    "    if os.path.isfile(filepath):\n",
    "        temp = pd.read_csv(filepath)\n",
    "        temp['Season'] = re.search(r'\\d{4}', filename).group()\n",
    "        print(filename, \"shape:\", temp.shape)\n",
    "        all_dfs.append(temp)\n",
    "\n",
    "Kenpom_stacked = pd.concat(all_dfs, ignore_index=True)\n",
    "print('Final Shape:',Kenpom_stacked.shape)\n",
    "\n",
    "Kenpom_stacked = Kenpom_stacked.sort_values(by=[\"Season\", \"Rk\"], ascending=[False, True])\n",
    "Kenpom_stacked.head()"
   ]
  },
  {
   "cell_type": "code",
   "execution_count": 308,
   "metadata": {},
   "outputs": [],
   "source": [
    "def replace_names(df, column_name, replacements):\n",
    "    df[column_name] = df[column_name].map(replacements).fillna(df[column_name])\n",
    "    return df\n",
    "\n",
    "\n",
    "replacements = {\n",
    "\n",
    "    'Coastal Carolina': 'Coastal Car',\n",
    "    'Western Carolina': 'W Carolina',\n",
    "    'Eastern Washington': 'E Washington',\n",
    "    'Western Illinois': 'W Illinois',\n",
    "    'Nebraska Omaha': 'NE Omaha',\n",
    "    'The Citadel': 'Citadel',\n",
    "    'FIU': 'Florida Intl',\n",
    "    'San Diego St.': 'San Diego St',\n",
    "    'Florida Atlantic': 'FL Atlantic',\n",
    "    'Purdue Fort Wayne': 'PFW',\n",
    "    'Arkansas Pine Bluff': 'Ark Pine Bluff',\n",
    "    'North Carolina Central': 'NC Central',\n",
    "    'Abilene Christian': 'Abilene Chr',\n",
    "    'Charleston Southern': 'Charleston So',\n",
    "    'Illinois Chicago': 'IL Chicago',\n",
    "    'George Washington': 'G Washington',\n",
    "    \"Texas A&M Commerce\": \"TX A&M Commerce\",\n",
    "    \"Saint Mary's\": \"St Mary's CA\",\n",
    "    \"Georgia Southern\": \"Ga Southern\",\n",
    "    \"Mississippi Valley St.\": \"MS Valley St\",\n",
    "    \"East Tennessee St\": \"ESTU\",\n",
    "    \"UMass Lowell\": \"MA Lowell\",\n",
    "    \"Grambling St\": \"Grambling\",\n",
    "    \"Fairleigh Dickinson\": \"F Dickinson\",\n",
    "    \"USC Upstate\": \"SC Upstate\",\n",
    "    \"Eastern Illinois\": \"E Illinois\",\n",
    "    \"South Carolina St\": \"S Carolina St\",\n",
    "    \"Louisiana Monroe\": \"la-monroe\",\n",
    "    \"Tennessee Martin\": \"TN Martin\",\n",
    "    \"Kennesaw St\": \"Kennesaw\",\n",
    "    \"UT Rio Grande Valley\": \"UTRGV\",\n",
    "    \"Texas A&M Corpus Chris\": \"TAM C. Christi\",\n",
    "    \"North Carolina A&T\": \"NC A&T\",\n",
    "    \"Texas Southern\": \"TX Southern\",\n",
    "    \"Saint Louis\": \"St Louis\",\n",
    "    \"Little Rock\": \"Ark Little Rock\",\n",
    "    \"Eastern Michigan\": \"E Michigan\",\n",
    "    \"Sacramento St\": \"CS Sacramento\",\n",
    "    \"College of Charleston\": \"Col Charleston\",\n",
    "    \"Fort Wayne\": \"PFW\",\n",
    "    \"Milwaukee\": \"WI Milwaukee\",\n",
    "    \"Cal St. Bakersfield\": \"Bakersfield\",\n",
    "    \"Loyola Marymount\": \"Loy Marymount\",\n",
    "    \"Louisiana Lafayette\": \"Louisiana\",\n",
    "    \"St Thomas\": \"St Thomas MN\",\n",
    "    \"LIU\": \"LIU Brooklyn\",\n",
    "    \"Cal St Northridge\": \"CS Northridge\",\n",
    "    \"Green Bay\": \"WI Green Bay\",\n",
    "    \"Maryland Eastern Shore\": \"MD E Shore\",\n",
    "    \"Houston Baptist\": \"Houston Chr\",\n",
    "    \"Houston Christian\": \"Houston Chr\",\n",
    "    \"American\": \"American Univ\",\n",
    "    \"Prairie View A&M\": \"Prairie View\",\n",
    "    \"Loyola Chicago\": \"Loyola-Chicago\",\n",
    "    \"Mount St Mary's\": \"Mt St Mary's\",\n",
    "    \"Monmouth\": \"Monmouth NJ\",\n",
    "    \"Western Michigan\": \"W Michigan\",\n",
    "    \"Florida Gulf Coast\": \"FL Gulf Coast\",\n",
    "    \"Saint Joseph's\": \"St Joseph's PA\",\n",
    "    \"Western Kentucky\": \"WKU\",\n",
    "    \"Southeast Missouri\": \"se missouri st\",\n",
    "    \"Southeast Missouri St.\": \"se missouri st\",\n",
    "    \"Cal St Fullerton\": \"CS Fullerton\",\n",
    "    \"Central Connecticut\": \"Central Conn\",\n",
    "    \"South Dakota St\": \"S Dakota St\",\n",
    "    \"Central Michigan\": \"C Michigan\",\n",
    "    \"Stephen F. Austin\": \"SF Austin\",\n",
    "    \"UTSA\": \"UT San Antonio\",\n",
    "    \"Bethune Cookman\": \"Bethune-Cookman\",\n",
    "    \"Northern Kentucky\": \"N Kentucky\",\n",
    "    \"Middle Tennessee\": \"MTSU\",\n",
    "    \"Eastern Kentucky\": \"E Kentucky\",\n",
    "    \"Central Arkansas\": \"Cent Arkansas\",\n",
    "    \"Southern\": \"Southern Univ\",\n",
    "    \"Southern Illinois\": \"S Illinois\",\n",
    "    \"N.C. State\": \"NC State\",\n",
    "    \"Queens\": \"Queens NC\",\n",
    "    \"Boston University\": \"Boston Univ\",\n",
    "    \"Northern Illinois\": \"N Illinois\",\n",
    "    \"Detroit Mercy\": \"Detroit\",\n",
    "    \"Albany\": \"SUNY Albany\",\n",
    "    \"Northern Colorado\": \"N Colorado\",\n",
    "    \"Saint Peter's\": \"St Peter's\",\n",
    "    \"Southeastern Louisiana\": \"SE Louisiana\",\n",
    "    \"Kent St\": \"Kent\",\n",
    "    \"Saint Francis\": \"St Francis PA\"\n",
    "\n",
    "}\n",
    "\n",
    "Kenpom_stacked = replace_names(Kenpom_stacked, 'TeamName', replacements)\n"
   ]
  },
  {
   "cell_type": "code",
   "execution_count": 309,
   "metadata": {},
   "outputs": [
    {
     "name": "stdout",
     "output_type": "stream",
     "text": [
      "Empty DataFrame\n",
      "Columns: [Rk, TeamName, NetRtg, ORtg, DRtg, AdjT, Season, TeamID]\n",
      "Index: []\n"
     ]
    }
   ],
   "source": [
    "\n",
    "M_teams = pd.read_csv('/Users/jimmyhe/Desktop/ML/KaggleCompetitions/NCAA/DataPreparation/CompData/march-machine-learning-mania-2025/MTeams.csv')\n",
    "spellings = pd.read_csv('/Users/jimmyhe/Desktop/ML/KaggleCompetitions/NCAA/DataPreparation/CompData/march-machine-learning-mania-2025/MTeamSpellings.csv')\n",
    "spellings = spellings.rename(columns={\"TeamNameSpelling\": \"TeamName\"})\n",
    "Kenpom_stacked['TeamName'] = Kenpom_stacked['TeamName'].str.lower()\n",
    "spellings['TeamName'] = spellings['TeamName'].str.lower()\n",
    "final_kenpom = Kenpom_stacked.merge(spellings, on='TeamName', how='left')\n",
    "mask = final_kenpom['TeamID'].isnull() & final_kenpom['TeamName'].str.contains(r'st\\.', regex=True)\n",
    "final_kenpom.loc[mask, 'TeamName'] = final_kenpom.loc[mask, 'TeamName'].str.replace(r'st\\.', 'st', regex=True)\n",
    "final_kenpom = final_kenpom.drop(columns='TeamID')\n",
    "final_kenpom = final_kenpom.merge(spellings, on='TeamName', how='left')\n",
    "missing = final_kenpom[final_kenpom['TeamID'].isnull()]\n",
    "print(missing)\n"
   ]
  },
  {
   "cell_type": "code",
   "execution_count": 310,
   "metadata": {},
   "outputs": [
    {
     "data": {
      "text/plain": [
       "[]"
      ]
     },
     "execution_count": 310,
     "metadata": {},
     "output_type": "execute_result"
    }
   ],
   "source": [
    "names = final_kenpom[final_kenpom['TeamID'].isnull()]['TeamName']\n",
    "names = names.tolist()\n",
    "names"
   ]
  },
  {
   "cell_type": "code",
   "execution_count": 311,
   "metadata": {},
   "outputs": [],
   "source": [
    "\n",
    "final_kenpom.to_csv(\"/Users/jimmyhe/Desktop/ML/KaggleCompetitions/NCAA/Train_Set/MEN/Kenpom_final.csv\")"
   ]
  },
  {
   "cell_type": "code",
   "execution_count": 312,
   "metadata": {},
   "outputs": [
    {
     "data": {
      "text/plain": [
       "TeamID\n",
       "1181    7\n",
       "1343    7\n",
       "1262    7\n",
       "1283    7\n",
       "1436    7\n",
       "       ..\n",
       "1475    3\n",
       "1478    2\n",
       "1366    2\n",
       "1480    1\n",
       "1479    1\n",
       "Name: count, Length: 367, dtype: int64"
      ]
     },
     "execution_count": 312,
     "metadata": {},
     "output_type": "execute_result"
    }
   ],
   "source": [
    "counts = final_kenpom['TeamID'].value_counts()\n",
    "numbers_with_6_occurrences = counts[counts == 6].index.tolist()\n",
    "\n",
    "counts"
   ]
  },
  {
   "cell_type": "code",
   "execution_count": 313,
   "metadata": {},
   "outputs": [
    {
     "data": {
      "text/plain": [
       "2"
      ]
     },
     "execution_count": 313,
     "metadata": {},
     "output_type": "execute_result"
    }
   ],
   "source": [
    "len(numbers_with_6_occurrences)\n"
   ]
  },
  {
   "cell_type": "code",
   "execution_count": null,
   "metadata": {},
   "outputs": [],
   "source": []
  },
  {
   "cell_type": "code",
   "execution_count": null,
   "metadata": {},
   "outputs": [],
   "source": []
  },
  {
   "cell_type": "code",
   "execution_count": null,
   "metadata": {},
   "outputs": [],
   "source": []
  }
 ],
 "metadata": {
  "kernelspec": {
   "display_name": "NCAA",
   "language": "python",
   "name": "python3"
  },
  "language_info": {
   "codemirror_mode": {
    "name": "ipython",
    "version": 3
   },
   "file_extension": ".py",
   "mimetype": "text/x-python",
   "name": "python",
   "nbconvert_exporter": "python",
   "pygments_lexer": "ipython3",
   "version": "3.13.2"
  }
 },
 "nbformat": 4,
 "nbformat_minor": 2
}
