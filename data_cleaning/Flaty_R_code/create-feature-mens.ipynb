{
 "cells": [
  {
   "cell_type": "code",
   "execution_count": null,
   "metadata": {
    "execution": {
     "iopub.execute_input": "2024-04-18T04:07:53.493419Z",
     "iopub.status.busy": "2024-04-18T04:07:53.490842Z",
     "iopub.status.idle": "2024-04-18T04:07:56.359344Z"
    },
    "trusted": true,
    "vscode": {
     "languageId": "r"
    }
   },
   "outputs": [],
   "source": [
    "library(tidyverse)"
   ]
  },
  {
   "cell_type": "markdown",
   "metadata": {},
   "source": [
    "This is reference notebook made by Flaty"
   ]
  },
  {
   "cell_type": "code",
   "execution_count": null,
   "metadata": {
    "_execution_state": "idle",
    "_uuid": "051d70d956493feee0c6d64651c6a088724dca2a",
    "execution": {
     "iopub.execute_input": "2024-04-18T04:08:48.868196Z",
     "iopub.status.busy": "2024-04-18T04:08:48.825771Z",
     "iopub.status.idle": "2024-04-18T04:08:49.736086Z"
    },
    "trusted": true,
    "vscode": {
     "languageId": "r"
    }
   },
   "outputs": [],
   "source": [
    "\n",
    "base_path <- \"/Users/jimmyhe/Desktop/ML/KaggleCompetitions/NCAA/DataPreparation/CompData/march-machine-learning-mania-2024/\"\n",
    "result_regular <- read_csv(glue(\"{base_path}MRegularSeasonCompactResults.csv\"))\n",
    "seed <- read_csv(glue(\"{base_path}MNCAATourneySeeds.csv\"))\n",
    "teams <- read_csv(glue(\"{base_path}MTeams.csv\"))\n",
    "\n",
    "elo_rating <- read_csv(\"/kaggle/input/ncaa-2024/EloRating_mens_10.csv\")#This data is created by the following code.(https://www.kaggle.com/code/flat831/elo-rating)"
   ]
  },
  {
   "cell_type": "code",
   "execution_count": null,
   "metadata": {
    "execution": {
     "iopub.execute_input": "2024-04-18T04:09:04.456752Z",
     "iopub.status.busy": "2024-04-18T04:09:04.454979Z",
     "iopub.status.idle": "2024-04-18T04:09:04.472955Z"
    },
    "trusted": true,
    "vscode": {
     "languageId": "r"
    }
   },
   "outputs": [],
   "source": [
    "create_features <- function(team_id, result_regular, seed) {\n",
    "  tmp <- result_regular %>% filter(WTeamID == team_id | LTeamID == team_id)\n",
    "  seed_tmp <- seed %>% filter(TeamID == team_id) %>% mutate(Seed = as.numeric(substr(Seed, 2, 3))) %>% select(-TeamID)\n",
    "  \n",
    "  tmp2 <- tmp %>% rename(TeamID = WTeamID, Score = WScore, Opp_TeamID = LTeamID, Opp_Score = LScore) #%>% relocate(TeamID, Score, Opp_TeamID, Opp_Score)\n",
    "  tmp3 <- tmp %>% rename(TeamID = LTeamID, Score = LScore, Opp_TeamID = WTeamID, Opp_Score = WScore) #%>% relocate(TeamID, Score, Opp_TeamID, Opp_Score)\n",
    "  \n",
    "  tmp4 <- bind_rows(tmp2, tmp3) %>% \n",
    "    filter(TeamID == team_id) %>% \n",
    "    mutate(\n",
    "      diff_score = Score - Opp_Score,\n",
    "      win = ifelse(diff_score>0, 1, 0)\n",
    "    ) %>% \n",
    "    arrange(Season, DayNum)\n",
    "  \n",
    "  tmp5 <- tmp4 %>% \n",
    "    group_by(Season) %>% \n",
    "    summarise(\n",
    "      count = n(),\n",
    "      win_count = sum(win),\n",
    "      win_rate = sum(win)/n(),\n",
    "      gap_avg = mean(diff_score)\n",
    "    ) %>% \n",
    "    left_join(seed_tmp, by = \"Season\") %>% \n",
    "    mutate(TeamID = team_id)\n",
    "  \n",
    "  return(tmp5)\n",
    "}"
   ]
  },
  {
   "cell_type": "code",
   "execution_count": null,
   "metadata": {
    "execution": {
     "iopub.execute_input": "2024-04-18T04:10:11.225792Z",
     "iopub.status.busy": "2024-04-18T04:10:11.224098Z",
     "iopub.status.idle": "2024-04-18T04:10:28.937843Z"
    },
    "trusted": true,
    "vscode": {
     "languageId": "r"
    }
   },
   "outputs": [],
   "source": [
    "res <- tibble()\n",
    "\n",
    "for (team_id in teams$TeamID) {\n",
    "  tmp <- create_features(team_id, result_regular, seed)\n",
    "  res <- bind_rows(res, tmp)\n",
    "}"
   ]
  },
  {
   "cell_type": "code",
   "execution_count": null,
   "metadata": {
    "execution": {
     "iopub.execute_input": "2024-04-18T04:21:14.078418Z",
     "iopub.status.busy": "2024-04-18T04:21:14.076535Z",
     "iopub.status.idle": "2024-04-18T04:21:14.106888Z"
    },
    "trusted": true,
    "vscode": {
     "languageId": "r"
    }
   },
   "outputs": [],
   "source": [
    "df_feat <- res %>% \n",
    "  left_join(elo_rating, by =c(\"TeamID\", \"Season\")) %>%\n",
    "  arrange(Season, Seed)"
   ]
  },
  {
   "cell_type": "code",
   "execution_count": null,
   "metadata": {
    "execution": {
     "iopub.execute_input": "2024-04-18T04:22:13.604809Z",
     "iopub.status.busy": "2024-04-18T04:22:13.602928Z",
     "iopub.status.idle": "2024-04-18T04:22:13.662373Z"
    },
    "trusted": true,
    "vscode": {
     "languageId": "r"
    }
   },
   "outputs": [],
   "source": [
    "df_feat %>% filter(Season == 2024) %>% head(16)"
   ]
  },
  {
   "cell_type": "code",
   "execution_count": null,
   "metadata": {
    "vscode": {
     "languageId": "r"
    }
   },
   "outputs": [],
   "source": [
    "df_feat %>% write_csv(\"features_mens.csv\")"
   ]
  }
 ],
 "metadata": {
  "kaggle": {
   "accelerator": "none",
   "dataSources": [
    {
     "databundleVersionId": 8023814,
     "sourceId": 70068,
     "sourceType": "competition"
    },
    {
     "datasetId": 4613627,
     "sourceId": 7883080,
     "sourceType": "datasetVersion"
    }
   ],
   "dockerImageVersionId": 30618,
   "isGpuEnabled": false,
   "isInternetEnabled": true,
   "language": "r",
   "sourceType": "notebook"
  },
  "kernelspec": {
   "display_name": "R",
   "language": "R",
   "name": "ir"
  },
  "language_info": {
   "codemirror_mode": "r",
   "file_extension": ".r",
   "mimetype": "text/x-r-source",
   "name": "R",
   "pygments_lexer": "r",
   "version": "4.0.5"
  }
 },
 "nbformat": 4,
 "nbformat_minor": 4
}
