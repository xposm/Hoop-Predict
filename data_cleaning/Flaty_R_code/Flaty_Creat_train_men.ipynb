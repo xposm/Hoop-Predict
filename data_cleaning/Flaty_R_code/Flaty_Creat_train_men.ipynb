{
 "cells": [
  {
   "cell_type": "code",
   "execution_count": 1,
   "id": "db3e8df0",
   "metadata": {
    "_execution_state": "idle",
    "_uuid": "051d70d956493feee0c6d64651c6a088724dca2a",
    "execution": {
     "iopub.execute_input": "2024-04-18T22:23:05.269298Z",
     "iopub.status.busy": "2024-04-18T22:23:05.266807Z",
     "iopub.status.idle": "2024-04-18T22:23:06.374208Z",
     "shell.execute_reply": "2024-04-18T22:23:06.372378Z"
    },
    "papermill": {
     "duration": 1.114854,
     "end_time": "2024-04-18T22:23:06.376693",
     "exception": false,
     "start_time": "2024-04-18T22:23:05.261839",
     "status": "completed"
    },
    "tags": []
   },
   "outputs": [
    {
     "name": "stderr",
     "output_type": "stream",
     "text": [
      "── \u001b[1mAttaching core tidyverse packages\u001b[22m ──────────────────────── tidyverse 2.0.0 ──\n",
      "\u001b[32m✔\u001b[39m \u001b[34mdplyr    \u001b[39m 1.1.4     \u001b[32m✔\u001b[39m \u001b[34mreadr    \u001b[39m 2.1.4\n",
      "\u001b[32m✔\u001b[39m \u001b[34mforcats  \u001b[39m 1.0.0     \u001b[32m✔\u001b[39m \u001b[34mstringr  \u001b[39m 1.5.1\n",
      "\u001b[32m✔\u001b[39m \u001b[34mggplot2  \u001b[39m 3.4.4     \u001b[32m✔\u001b[39m \u001b[34mtibble   \u001b[39m 3.2.1\n",
      "\u001b[32m✔\u001b[39m \u001b[34mlubridate\u001b[39m 1.9.3     \u001b[32m✔\u001b[39m \u001b[34mtidyr    \u001b[39m 1.3.0\n",
      "\u001b[32m✔\u001b[39m \u001b[34mpurrr    \u001b[39m 1.0.2     \n",
      "── \u001b[1mConflicts\u001b[22m ────────────────────────────────────────── tidyverse_conflicts() ──\n",
      "\u001b[31m✖\u001b[39m \u001b[34mdplyr\u001b[39m::\u001b[32mfilter()\u001b[39m masks \u001b[34mstats\u001b[39m::filter()\n",
      "\u001b[31m✖\u001b[39m \u001b[34mdplyr\u001b[39m::\u001b[32mlag()\u001b[39m    masks \u001b[34mstats\u001b[39m::lag()\n",
      "\u001b[36mℹ\u001b[39m Use the conflicted package (\u001b[3m\u001b[34m<http://conflicted.r-lib.org/>\u001b[39m\u001b[23m) to force all conflicts to become errors\n"
     ]
    }
   ],
   "source": [
    "library(tidyverse)"
   ]
  },
  {
   "cell_type": "code",
   "execution_count": 2,
   "id": "f065258a",
   "metadata": {
    "execution": {
     "iopub.execute_input": "2024-04-18T22:23:06.412919Z",
     "iopub.status.busy": "2024-04-18T22:23:06.383292Z",
     "iopub.status.idle": "2024-04-18T22:23:06.808634Z",
     "shell.execute_reply": "2024-04-18T22:23:06.806787Z"
    },
    "papermill": {
     "duration": 0.432469,
     "end_time": "2024-04-18T22:23:06.811625",
     "exception": false,
     "start_time": "2024-04-18T22:23:06.379156",
     "status": "completed"
    },
    "tags": []
   },
   "outputs": [
    {
     "name": "stderr",
     "output_type": "stream",
     "text": [
      "\u001b[1mRows: \u001b[22m\u001b[34m5670\u001b[39m \u001b[1mColumns: \u001b[22m\u001b[34m12\u001b[39m\n",
      "\u001b[36m──\u001b[39m \u001b[1mColumn specification\u001b[22m \u001b[36m────────────────────────────────────────────────────────\u001b[39m\n",
      "\u001b[1mDelimiter:\u001b[22m \",\"\n",
      "\u001b[31mchr\u001b[39m  (1): TeamName\n",
      "\u001b[32mdbl\u001b[39m (11): TeamID, FirstD1Season, LastD1Season, Rating, num, Season, count, w...\n",
      "\n",
      "\u001b[36mℹ\u001b[39m Use `spec()` to retrieve the full column specification for this data.\n",
      "\u001b[36mℹ\u001b[39m Specify the column types or set `show_col_types = FALSE` to quiet this message.\n",
      "\u001b[1mRows: \u001b[22m\u001b[34m2451\u001b[39m \u001b[1mColumns: \u001b[22m\u001b[34m8\u001b[39m\n",
      "\u001b[36m──\u001b[39m \u001b[1mColumn specification\u001b[22m \u001b[36m────────────────────────────────────────────────────────\u001b[39m\n",
      "\u001b[1mDelimiter:\u001b[22m \",\"\n",
      "\u001b[31mchr\u001b[39m (1): WLoc\n",
      "\u001b[32mdbl\u001b[39m (7): Season, DayNum, WTeamID, WScore, LTeamID, LScore, NumOT\n",
      "\n",
      "\u001b[36mℹ\u001b[39m Use `spec()` to retrieve the full column specification for this data.\n",
      "\u001b[36mℹ\u001b[39m Specify the column types or set `show_col_types = FALSE` to quiet this message.\n"
     ]
    }
   ],
   "source": [
    "features <- read_csv(\"/kaggle/input/ncaa-2024/features_mens.csv\")#This data is created by the following code.(https://www.kaggle.com/code/flat831/create-feature-mens)\n",
    "result <- read_csv(\"/kaggle/input/march-machine-learning-mania-2024/MNCAATourneyCompactResults.csv\")"
   ]
  },
  {
   "cell_type": "code",
   "execution_count": 3,
   "id": "d96f5209",
   "metadata": {
    "execution": {
     "iopub.execute_input": "2024-04-18T22:23:06.819953Z",
     "iopub.status.busy": "2024-04-18T22:23:06.818485Z",
     "iopub.status.idle": "2024-04-18T22:23:06.959871Z",
     "shell.execute_reply": "2024-04-18T22:23:06.958107Z"
    },
    "papermill": {
     "duration": 0.148191,
     "end_time": "2024-04-18T22:23:06.962382",
     "exception": false,
     "start_time": "2024-04-18T22:23:06.814191",
     "status": "completed"
    },
    "tags": []
   },
   "outputs": [],
   "source": [
    "tmp <- result %>% \n",
    "  rename(\n",
    "    TeamID_A = WTeamID, TeamID_B = LTeamID, Score_A = WScore, Score_B = LScore\n",
    "    )\n",
    "\n",
    "tmp2 <- result %>% \n",
    "  rename(\n",
    "    TeamID_A = LTeamID, TeamID_B = WTeamID, Score_A = LScore, Score_B = WScore\n",
    "  )\n",
    "\n",
    "features_A <- features %>% \n",
    "  select(Season, TeamID, Seed, Rating, win_rate, gap_avg) %>% \n",
    "  filter(is.na(Seed) == 0) %>% \n",
    "  rename(TeamID_A = TeamID, Seed_A = Seed, Rating_A = Rating, win_rate_A = win_rate, gap_avg_A = gap_avg)\n",
    "\n",
    "features_B <- features %>% \n",
    "  select(Season, TeamID, Seed, Rating, win_rate, gap_avg) %>% \n",
    "  filter(is.na(Seed) == 0) %>% \n",
    "  rename(TeamID_B = TeamID, Seed_B = Seed, Rating_B = Rating, win_rate_B = win_rate, gap_avg_B = gap_avg)\n",
    "\n",
    "result_merged <- bind_rows(tmp, tmp2) %>% \n",
    "  filter(Season >= 2010) %>% \n",
    "  left_join(features_A, by = c(\"Season\", \"TeamID_A\")) %>% \n",
    "  left_join(features_B, by = c(\"Season\", \"TeamID_B\")) %>% \n",
    "  mutate(\n",
    "    diff_seed = Seed_A - Seed_B,\n",
    "    diff_rating = Rating_A - Rating_B,\n",
    "    diff_win_rate = win_rate_A - win_rate_B,\n",
    "    diff_gap_avg = gap_avg_A - gap_avg_B,\n",
    "    diff_score = Score_A-Score_B,\n",
    "    target = ifelse(Score_A-Score_B>0, 1, 0)\n",
    "  )"
   ]
  },
  {
   "cell_type": "code",
   "execution_count": 4,
   "id": "05607f2f",
   "metadata": {
    "execution": {
     "iopub.execute_input": "2024-04-18T22:23:06.970803Z",
     "iopub.status.busy": "2024-04-18T22:23:06.969290Z",
     "iopub.status.idle": "2024-04-18T22:23:07.033100Z",
     "shell.execute_reply": "2024-04-18T22:23:07.031407Z"
    },
    "papermill": {
     "duration": 0.070394,
     "end_time": "2024-04-18T22:23:07.035375",
     "exception": false,
     "start_time": "2024-04-18T22:23:06.964981",
     "status": "completed"
    },
    "tags": []
   },
   "outputs": [
    {
     "data": {
      "text/html": [
       "<table class=\"dataframe\">\n",
       "<caption>A tibble: 6 × 22</caption>\n",
       "<thead>\n",
       "\t<tr><th scope=col>Season</th><th scope=col>DayNum</th><th scope=col>TeamID_A</th><th scope=col>Score_A</th><th scope=col>TeamID_B</th><th scope=col>Score_B</th><th scope=col>WLoc</th><th scope=col>NumOT</th><th scope=col>Seed_A</th><th scope=col>Rating_A</th><th scope=col>⋯</th><th scope=col>Seed_B</th><th scope=col>Rating_B</th><th scope=col>win_rate_B</th><th scope=col>gap_avg_B</th><th scope=col>diff_seed</th><th scope=col>diff_rating</th><th scope=col>diff_win_rate</th><th scope=col>diff_gap_avg</th><th scope=col>diff_score</th><th scope=col>target</th></tr>\n",
       "\t<tr><th scope=col>&lt;dbl&gt;</th><th scope=col>&lt;dbl&gt;</th><th scope=col>&lt;dbl&gt;</th><th scope=col>&lt;dbl&gt;</th><th scope=col>&lt;dbl&gt;</th><th scope=col>&lt;dbl&gt;</th><th scope=col>&lt;chr&gt;</th><th scope=col>&lt;dbl&gt;</th><th scope=col>&lt;dbl&gt;</th><th scope=col>&lt;dbl&gt;</th><th scope=col>⋯</th><th scope=col>&lt;dbl&gt;</th><th scope=col>&lt;dbl&gt;</th><th scope=col>&lt;dbl&gt;</th><th scope=col>&lt;dbl&gt;</th><th scope=col>&lt;dbl&gt;</th><th scope=col>&lt;dbl&gt;</th><th scope=col>&lt;dbl&gt;</th><th scope=col>&lt;dbl&gt;</th><th scope=col>&lt;dbl&gt;</th><th scope=col>&lt;dbl&gt;</th></tr>\n",
       "</thead>\n",
       "<tbody>\n",
       "\t<tr><td>2010</td><td>134</td><td>1115</td><td>61</td><td>1457</td><td>44</td><td>N</td><td>0</td><td>16</td><td>44.92280</td><td>⋯</td><td>16</td><td>48.55172</td><td>0.5666667</td><td> 0.6333333</td><td>  0</td><td>-3.628926</td><td>-0.03541667</td><td>-0.9145833</td><td>17</td><td>1</td></tr>\n",
       "\t<tr><td>2010</td><td>136</td><td>1124</td><td>68</td><td>1358</td><td>59</td><td>N</td><td>0</td><td> 3</td><td>62.31469</td><td>⋯</td><td>14</td><td>53.03943</td><td>0.7500000</td><td> 7.5714286</td><td>-11</td><td> 9.275262</td><td> 0.02419355</td><td> 2.5898618</td><td> 9</td><td>1</td></tr>\n",
       "\t<tr><td>2010</td><td>136</td><td>1139</td><td>77</td><td>1431</td><td>59</td><td>N</td><td>0</td><td> 5</td><td>62.29193</td><td>⋯</td><td>12</td><td>58.86788</td><td>0.8125000</td><td>11.5937500</td><td> -7</td><td> 3.424057</td><td> 0.06250000</td><td>-1.5312500</td><td>18</td><td>1</td></tr>\n",
       "\t<tr><td>2010</td><td>136</td><td>1140</td><td>99</td><td>1196</td><td>92</td><td>N</td><td>2</td><td> 7</td><td>60.70889</td><td>⋯</td><td>10</td><td>58.82181</td><td>0.6363636</td><td> 6.1818182</td><td> -3</td><td> 1.887081</td><td> 0.21212121</td><td>10.7575758</td><td> 7</td><td>1</td></tr>\n",
       "\t<tr><td>2010</td><td>136</td><td>1242</td><td>90</td><td>1250</td><td>74</td><td>N</td><td>0</td><td> 1</td><td>67.47625</td><td>⋯</td><td>16</td><td>48.69475</td><td>0.6875000</td><td> 5.0937500</td><td>-15</td><td>18.781508</td><td> 0.25367647</td><td>12.8768382</td><td>16</td><td>1</td></tr>\n",
       "\t<tr><td>2010</td><td>136</td><td>1243</td><td>82</td><td>1317</td><td>62</td><td>N</td><td>0</td><td> 2</td><td>62.29727</td><td>⋯</td><td>15</td><td>53.69969</td><td>0.7333333</td><td> 3.5666667</td><td>-13</td><td> 8.597580</td><td> 0.04791667</td><td> 6.6833333</td><td>20</td><td>1</td></tr>\n",
       "</tbody>\n",
       "</table>\n"
      ],
      "text/latex": [
       "A tibble: 6 × 22\n",
       "\\begin{tabular}{lllllllllllllllllllll}\n",
       " Season & DayNum & TeamID\\_A & Score\\_A & TeamID\\_B & Score\\_B & WLoc & NumOT & Seed\\_A & Rating\\_A & ⋯ & Seed\\_B & Rating\\_B & win\\_rate\\_B & gap\\_avg\\_B & diff\\_seed & diff\\_rating & diff\\_win\\_rate & diff\\_gap\\_avg & diff\\_score & target\\\\\n",
       " <dbl> & <dbl> & <dbl> & <dbl> & <dbl> & <dbl> & <chr> & <dbl> & <dbl> & <dbl> & ⋯ & <dbl> & <dbl> & <dbl> & <dbl> & <dbl> & <dbl> & <dbl> & <dbl> & <dbl> & <dbl>\\\\\n",
       "\\hline\n",
       "\t 2010 & 134 & 1115 & 61 & 1457 & 44 & N & 0 & 16 & 44.92280 & ⋯ & 16 & 48.55172 & 0.5666667 &  0.6333333 &   0 & -3.628926 & -0.03541667 & -0.9145833 & 17 & 1\\\\\n",
       "\t 2010 & 136 & 1124 & 68 & 1358 & 59 & N & 0 &  3 & 62.31469 & ⋯ & 14 & 53.03943 & 0.7500000 &  7.5714286 & -11 &  9.275262 &  0.02419355 &  2.5898618 &  9 & 1\\\\\n",
       "\t 2010 & 136 & 1139 & 77 & 1431 & 59 & N & 0 &  5 & 62.29193 & ⋯ & 12 & 58.86788 & 0.8125000 & 11.5937500 &  -7 &  3.424057 &  0.06250000 & -1.5312500 & 18 & 1\\\\\n",
       "\t 2010 & 136 & 1140 & 99 & 1196 & 92 & N & 2 &  7 & 60.70889 & ⋯ & 10 & 58.82181 & 0.6363636 &  6.1818182 &  -3 &  1.887081 &  0.21212121 & 10.7575758 &  7 & 1\\\\\n",
       "\t 2010 & 136 & 1242 & 90 & 1250 & 74 & N & 0 &  1 & 67.47625 & ⋯ & 16 & 48.69475 & 0.6875000 &  5.0937500 & -15 & 18.781508 &  0.25367647 & 12.8768382 & 16 & 1\\\\\n",
       "\t 2010 & 136 & 1243 & 82 & 1317 & 62 & N & 0 &  2 & 62.29727 & ⋯ & 15 & 53.69969 & 0.7333333 &  3.5666667 & -13 &  8.597580 &  0.04791667 &  6.6833333 & 20 & 1\\\\\n",
       "\\end{tabular}\n"
      ],
      "text/markdown": [
       "\n",
       "A tibble: 6 × 22\n",
       "\n",
       "| Season &lt;dbl&gt; | DayNum &lt;dbl&gt; | TeamID_A &lt;dbl&gt; | Score_A &lt;dbl&gt; | TeamID_B &lt;dbl&gt; | Score_B &lt;dbl&gt; | WLoc &lt;chr&gt; | NumOT &lt;dbl&gt; | Seed_A &lt;dbl&gt; | Rating_A &lt;dbl&gt; | ⋯ ⋯ | Seed_B &lt;dbl&gt; | Rating_B &lt;dbl&gt; | win_rate_B &lt;dbl&gt; | gap_avg_B &lt;dbl&gt; | diff_seed &lt;dbl&gt; | diff_rating &lt;dbl&gt; | diff_win_rate &lt;dbl&gt; | diff_gap_avg &lt;dbl&gt; | diff_score &lt;dbl&gt; | target &lt;dbl&gt; |\n",
       "|---|---|---|---|---|---|---|---|---|---|---|---|---|---|---|---|---|---|---|---|---|\n",
       "| 2010 | 134 | 1115 | 61 | 1457 | 44 | N | 0 | 16 | 44.92280 | ⋯ | 16 | 48.55172 | 0.5666667 |  0.6333333 |   0 | -3.628926 | -0.03541667 | -0.9145833 | 17 | 1 |\n",
       "| 2010 | 136 | 1124 | 68 | 1358 | 59 | N | 0 |  3 | 62.31469 | ⋯ | 14 | 53.03943 | 0.7500000 |  7.5714286 | -11 |  9.275262 |  0.02419355 |  2.5898618 |  9 | 1 |\n",
       "| 2010 | 136 | 1139 | 77 | 1431 | 59 | N | 0 |  5 | 62.29193 | ⋯ | 12 | 58.86788 | 0.8125000 | 11.5937500 |  -7 |  3.424057 |  0.06250000 | -1.5312500 | 18 | 1 |\n",
       "| 2010 | 136 | 1140 | 99 | 1196 | 92 | N | 2 |  7 | 60.70889 | ⋯ | 10 | 58.82181 | 0.6363636 |  6.1818182 |  -3 |  1.887081 |  0.21212121 | 10.7575758 |  7 | 1 |\n",
       "| 2010 | 136 | 1242 | 90 | 1250 | 74 | N | 0 |  1 | 67.47625 | ⋯ | 16 | 48.69475 | 0.6875000 |  5.0937500 | -15 | 18.781508 |  0.25367647 | 12.8768382 | 16 | 1 |\n",
       "| 2010 | 136 | 1243 | 82 | 1317 | 62 | N | 0 |  2 | 62.29727 | ⋯ | 15 | 53.69969 | 0.7333333 |  3.5666667 | -13 |  8.597580 |  0.04791667 |  6.6833333 | 20 | 1 |\n",
       "\n"
      ],
      "text/plain": [
       "  Season DayNum TeamID_A Score_A TeamID_B Score_B WLoc NumOT Seed_A Rating_A ⋯\n",
       "1 2010   134    1115     61      1457     44      N    0     16     44.92280 ⋯\n",
       "2 2010   136    1124     68      1358     59      N    0      3     62.31469 ⋯\n",
       "3 2010   136    1139     77      1431     59      N    0      5     62.29193 ⋯\n",
       "4 2010   136    1140     99      1196     92      N    2      7     60.70889 ⋯\n",
       "5 2010   136    1242     90      1250     74      N    0      1     67.47625 ⋯\n",
       "6 2010   136    1243     82      1317     62      N    0      2     62.29727 ⋯\n",
       "  Seed_B Rating_B win_rate_B gap_avg_B  diff_seed diff_rating diff_win_rate\n",
       "1 16     48.55172 0.5666667   0.6333333   0       -3.628926   -0.03541667  \n",
       "2 14     53.03943 0.7500000   7.5714286 -11        9.275262    0.02419355  \n",
       "3 12     58.86788 0.8125000  11.5937500  -7        3.424057    0.06250000  \n",
       "4 10     58.82181 0.6363636   6.1818182  -3        1.887081    0.21212121  \n",
       "5 16     48.69475 0.6875000   5.0937500 -15       18.781508    0.25367647  \n",
       "6 15     53.69969 0.7333333   3.5666667 -13        8.597580    0.04791667  \n",
       "  diff_gap_avg diff_score target\n",
       "1 -0.9145833   17         1     \n",
       "2  2.5898618    9         1     \n",
       "3 -1.5312500   18         1     \n",
       "4 10.7575758    7         1     \n",
       "5 12.8768382   16         1     \n",
       "6  6.6833333   20         1     "
      ]
     },
     "metadata": {},
     "output_type": "display_data"
    }
   ],
   "source": [
    "result_merged %>% head()"
   ]
  },
  {
   "cell_type": "code",
   "execution_count": 5,
   "id": "43573500",
   "metadata": {
    "execution": {
     "iopub.execute_input": "2024-04-18T22:23:07.044253Z",
     "iopub.status.busy": "2024-04-18T22:23:07.042821Z",
     "iopub.status.idle": "2024-04-18T22:23:07.077797Z",
     "shell.execute_reply": "2024-04-18T22:23:07.076044Z"
    },
    "papermill": {
     "duration": 0.041923,
     "end_time": "2024-04-18T22:23:07.080222",
     "exception": false,
     "start_time": "2024-04-18T22:23:07.038299",
     "status": "completed"
    },
    "tags": []
   },
   "outputs": [],
   "source": [
    "result_merged %>% write_csv(\"train_mens.csv\")"
   ]
  }
 ],
 "metadata": {
  "kaggle": {
   "accelerator": "none",
   "dataSources": [
    {
     "databundleVersionId": 8023814,
     "sourceId": 70068,
     "sourceType": "competition"
    },
    {
     "datasetId": 4613627,
     "sourceId": 7883080,
     "sourceType": "datasetVersion"
    }
   ],
   "dockerImageVersionId": 30618,
   "isGpuEnabled": false,
   "isInternetEnabled": true,
   "language": "r",
   "sourceType": "notebook"
  },
  "kernelspec": {
   "display_name": "R",
   "language": "R",
   "name": "ir"
  },
  "language_info": {
   "codemirror_mode": "r",
   "file_extension": ".r",
   "mimetype": "text/x-r-source",
   "name": "R",
   "pygments_lexer": "r",
   "version": "4.0.5"
  },
  "papermill": {
   "default_parameters": {},
   "duration": 5.250041,
   "end_time": "2024-04-18T22:23:07.203778",
   "environment_variables": {},
   "exception": null,
   "input_path": "__notebook__.ipynb",
   "output_path": "__notebook__.ipynb",
   "parameters": {},
   "start_time": "2024-04-18T22:23:01.953737",
   "version": "2.5.0"
  }
 },
 "nbformat": 4,
 "nbformat_minor": 5
}
