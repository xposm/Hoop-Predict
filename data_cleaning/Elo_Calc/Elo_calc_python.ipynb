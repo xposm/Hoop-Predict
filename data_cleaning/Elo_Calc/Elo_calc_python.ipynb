{
 "cells": [
  {
   "cell_type": "code",
   "execution_count": 20,
   "metadata": {},
   "outputs": [],
   "source": [
    "import pandas as pd \n",
    "import tqdm as tqdm\n",
    "import numpy as np "
   ]
  },
  {
   "cell_type": "markdown",
   "metadata": {},
   "source": [
    "Rewritten python version of the ELO_Calculation notebook by Flaty."
   ]
  },
  {
   "cell_type": "code",
   "execution_count": 21,
   "metadata": {},
   "outputs": [],
   "source": [
    "year = 2025\n",
    "PATH  = \"/Users/jimmyhe/Desktop/ML/KaggleCompetitions/NCAA/DataPreparation/CompData/\"\n",
    "result_tourney_mens = pd.read_csv(PATH + f\"march-machine-learning-mania-{year}/MNCAATourneyCompactResults.csv\")\n",
    "result_regular_mens = pd.read_csv(PATH  + f\"march-machine-learning-mania-{year}/MRegularSeasonCompactResults.csv\")\n",
    "result_tourney_2nd_mens = pd.read_csv(PATH + f\"march-machine-learning-mania-{year}/MSecondaryTourneyCompactResults.csv\").drop(columns=['SecondaryTourney'])\n",
    "#SecondaryTouney gives us the type of tournament which really isn't of much help\n",
    "teams_mens = pd.read_csv(PATH + f\"march-machine-learning-mania-{year}/MTeams.csv\")\n",
    "\n",
    "result_tourney_womens = pd.read_csv(PATH + f\"march-machine-learning-mania-{year}/WNCAATourneyCompactResults.csv\")\n",
    "result_regular_womens = pd.read_csv(PATH + f\"march-machine-learning-mania-{year}/WRegularSeasonCompactResults.csv\")\n",
    "teams_womens = pd.read_csv(PATH + f\"march-machine-learning-mania-{year}/WTeams.csv\")"
   ]
  },
  {
   "cell_type": "code",
   "execution_count": 22,
   "metadata": {},
   "outputs": [
    {
     "name": "stdout",
     "output_type": "stream",
     "text": [
      "result_tourney_mens shape: (2518, 9)\n",
      "DayNum range (Tourney): 134 - 154\n",
      "result_regular_mens shape: (192930, 9)\n",
      "DayNum range (Regular): 0 - 132\n",
      "result_tourney_2nd_mens shape: (1809, 9)\n",
      "DayNum range (SecondaryTourney): 133 - 152\n",
      "After concatenation (result_merged_men) shape: (197257, 9)\n",
      "After sorting (result_merged_men) shape: (197257, 9)\n",
      "After adding rating columns (result_merged_men) shape: (197257, 13)\n"
     ]
    }
   ],
   "source": [
    "result_tourney_mens['type'] = 'Tourney'\n",
    "print(\"result_tourney_mens shape:\", result_tourney_mens.shape)\n",
    "print(\"DayNum range (Tourney):\", result_tourney_mens['DayNum'].min(), \"-\", result_tourney_mens['DayNum'].max())\n",
    "result_regular_mens['type'] = 'Regular'\n",
    "print(\"result_regular_mens shape:\", result_regular_mens.shape)\n",
    "print(\"DayNum range (Regular):\", result_regular_mens['DayNum'].min(), \"-\", result_regular_mens['DayNum'].max())\n",
    "result_tourney_2nd_mens['type'] = 'SecondaryTourney'\n",
    "print(\"result_tourney_2nd_mens shape:\", result_tourney_2nd_mens.shape)\n",
    "print(\"DayNum range (SecondaryTourney):\", result_tourney_2nd_mens['DayNum'].min(), \"-\", result_tourney_2nd_mens['DayNum'].max())\n",
    "result_merged_men = pd.concat([result_tourney_mens, result_regular_mens, result_tourney_2nd_mens])\n",
    "print(\"After concatenation (result_merged_men) shape:\", result_merged_men.shape)\n",
    "result_merged_men = result_merged_men.sort_values(by=['Season', 'DayNum'])\n",
    "print(\"After sorting (result_merged_men) shape:\", result_merged_men.shape)\n",
    "for col in ['WRating_before', 'LRating_before', 'WRating_after', 'LRating_after']:\n",
    "    result_merged_men[col] = 50.0\n",
    "print(\"After adding rating columns (result_merged_men) shape:\", result_merged_men.shape)"
   ]
  },
  {
   "cell_type": "code",
   "execution_count": 23,
   "metadata": {},
   "outputs": [
    {
     "name": "stdout",
     "output_type": "stream",
     "text": [
      "After adding type to result_regular_womens shape: (137028, 9)\n",
      "DayNum range (Regular): 0 - 132\n",
      "After adding type to result_tourney_womens shape: (1650, 9)\n",
      "DayNum range (Tourney): 135 - 155\n",
      "After concatenation (result_merged_women) shape: (138678, 9)\n",
      "After sorting (result_merged_women) shape: (138678, 9)\n",
      "After adding rating columns (result_merged_women) shape: (138678, 13)\n"
     ]
    }
   ],
   "source": [
    "result_regular_womens['type'] = 'Regular'\n",
    "print(\"After adding type to result_regular_womens shape:\", result_regular_womens.shape)\n",
    "print(\"DayNum range (Regular):\", result_regular_womens['DayNum'].min(), \"-\", result_regular_womens['DayNum'].max())\n",
    "result_tourney_womens['type'] = 'Tourney'\n",
    "print(\"After adding type to result_tourney_womens shape:\", result_tourney_womens.shape)\n",
    "print(\"DayNum range (Tourney):\", result_tourney_womens['DayNum'].min(), \"-\", result_tourney_womens['DayNum'].max())\n",
    "result_merged_women = pd.concat([result_regular_womens, result_tourney_womens])\n",
    "print(\"After concatenation (result_merged_women) shape:\", result_merged_women.shape)\n",
    "result_merged_women = result_merged_women.sort_values(by=['Season', 'DayNum'])\n",
    "print(\"After sorting (result_merged_women) shape:\", result_merged_women.shape)\n",
    "for col in ['WRating_before', 'LRating_before', 'WRating_after', 'LRating_after']:\n",
    "    result_merged_women[col] = 50.0\n",
    "print(\"After adding rating columns (result_merged_women) shape:\", result_merged_women.shape)"
   ]
  },
  {
   "cell_type": "code",
   "execution_count": 24,
   "metadata": {},
   "outputs": [],
   "source": [
    "def update_elo_men(df, Mteams, K=1):\n",
    "    teams = Mteams.copy()\n",
    "    men_merged_df = df.copy()\n",
    "\n",
    "    teams['Rating'] = 50.0\n",
    "    teams['num'] = teams.index\n",
    "    for i in tqdm.tqdm(range(len(men_merged_df))):#Iterates over every single game\n",
    "        W_team_ID = int(men_merged_df.iloc[i,2])\n",
    "        L_team_ID = int(men_merged_df.iloc[i,4])\n",
    "        # print(W_team_ID,L_team_ID)\n",
    "        WTeamRating_before = float(teams[teams['TeamID'] == W_team_ID]['Rating'].values[0])\n",
    "        LTeamRating_before = float(teams[teams['TeamID'] == L_team_ID]['Rating'].values[0])\n",
    "        WTeam_num = int(teams[teams['TeamID'] == W_team_ID]['num'].values[0])#The current rows of the winning and losing team \n",
    "        LTeam_num = int(teams[teams['TeamID'] == L_team_ID]['num'].values[0])\n",
    "        WTeamRating_after = WTeamRating_before + K * (1 / (10**((WTeamRating_before - LTeamRating_before) / 10) + 1))\n",
    "        LTeamRating_after = LTeamRating_before - K * (1 / (10**((WTeamRating_before - LTeamRating_before) / 10) + 1))\n",
    "        #Find the team with the corresponding TeamID's rating\n",
    "        men_merged_df.iloc[i, 9] = WTeamRating_before\n",
    "        men_merged_df.iloc[i, 10] = LTeamRating_before\n",
    "        men_merged_df.iloc[i, 11] = WTeamRating_after\n",
    "        men_merged_df.iloc[i, 12] = LTeamRating_after\n",
    "\n",
    "        teams.iloc[WTeam_num, 4] = WTeamRating_after #This column keeps tracking of the last ELO rating for each team\n",
    "        teams.iloc[LTeam_num, 4] = LTeamRating_after\n",
    "    return men_merged_df, teams\n",
    "\n",
    "\n",
    "\n",
    "\n",
    "\n",
    "def update_elo_rating_women(df, Wteams, K=1):\n",
    "    women_merged_df = df.copy()\n",
    "    teams = Wteams.copy()\n",
    "    teams['Rating'] = 50.0\n",
    "    teams['num'] = teams.index\n",
    "    for i in tqdm.tqdm(range(len(women_merged_df))):\n",
    "        WTeamID = int(women_merged_df.iloc[i, 2])\n",
    "        LTeamID = int(women_merged_df.iloc[i, 4])\n",
    "        \n",
    "        WTeamRating_before = float(teams[teams['TeamID'] == WTeamID]['Rating'].values[0])\n",
    "        LTeamRating_before = float(teams[teams['TeamID'] == LTeamID]['Rating'].values[0])\n",
    "        WTeam_num = int(teams[teams['TeamID'] == WTeamID]['num'].values[0])\n",
    "        LTeam_num = int(teams[teams['TeamID'] == LTeamID]['num'].values[0])\n",
    "        \n",
    "        WTeamRating_after = WTeamRating_before + K * (1 / (10**((WTeamRating_before - LTeamRating_before) / 10) + 1))\n",
    "        LTeamRating_after = LTeamRating_before - K * (1 / (10**((WTeamRating_before - LTeamRating_before) / 10) + 1))\n",
    "        \n",
    "        women_merged_df.iloc[i, 9] = WTeamRating_before\n",
    "        women_merged_df.iloc[i, 10] = LTeamRating_before\n",
    "        women_merged_df.iloc[i, 11] = WTeamRating_after\n",
    "        women_merged_df.iloc[i, 12] = LTeamRating_after\n",
    "        \n",
    "        teams.iloc[WTeam_num, 2] = WTeamRating_after\n",
    "        teams.iloc[LTeam_num, 2] = LTeamRating_after\n",
    "    \n",
    "    return women_merged_df, teams"
   ]
  },
  {
   "cell_type": "code",
   "execution_count": null,
   "metadata": {},
   "outputs": [
    {
     "name": "stderr",
     "output_type": "stream",
     "text": [
      "100%|██████████| 100/100 [00:00<00:00, 1224.68it/s]\n"
     ]
    }
   ],
   "source": [
    "res_w, _ = update_elo_rating_women(result_merged_women, teams_womens)"
   ]
  },
  {
   "cell_type": "code",
   "execution_count": null,
   "metadata": {},
   "outputs": [],
   "source": []
  },
  {
   "cell_type": "code",
   "execution_count": null,
   "metadata": {},
   "outputs": [],
   "source": []
  },
  {
   "cell_type": "code",
   "execution_count": null,
   "metadata": {},
   "outputs": [],
   "source": []
  },
  {
   "cell_type": "code",
   "execution_count": 26,
   "metadata": {},
   "outputs": [
    {
     "name": "stderr",
     "output_type": "stream",
     "text": [
      "100%|██████████| 197257/197257 [03:42<00:00, 887.09it/s]\n"
     ]
    }
   ],
   "source": [
    "res_m, _ = update_elo_men(result_merged_men,teams_mens)"
   ]
  },
  {
   "cell_type": "code",
   "execution_count": 27,
   "metadata": {},
   "outputs": [
    {
     "data": {
      "text/plain": [
       "(197257, 13)"
      ]
     },
     "execution_count": 27,
     "metadata": {},
     "output_type": "execute_result"
    }
   ],
   "source": [
    "res_m.shape"
   ]
  },
  {
   "cell_type": "code",
   "execution_count": 28,
   "metadata": {},
   "outputs": [
    {
     "data": {
      "text/plain": [
       "array(['Regular', 'Tourney', 'SecondaryTourney'], dtype=object)"
      ]
     },
     "execution_count": 28,
     "metadata": {},
     "output_type": "execute_result"
    }
   ],
   "source": [
    "res_m['type'].unique()"
   ]
  },
  {
   "cell_type": "code",
   "execution_count": 29,
   "metadata": {},
   "outputs": [],
   "source": [
    "res_m_regular = res_m[res_m[\"type\"] == \"Regular\"]\n",
    "\n",
    "tmp = res_m_regular[['Season', 'DayNum', 'WTeamID', 'WRating_before', 'WRating_after']].rename(\n",
    "    columns={'WTeamID': 'TeamID', 'WRating_before': 'Rating_before', 'WRating_after': 'Rating_after'}\n",
    ") #Separate winners\n",
    "\n",
    "tmp2 = res_m_regular[['Season', 'DayNum', 'LTeamID', 'LRating_before', 'LRating_after']].rename(\n",
    "    columns={'LTeamID': 'TeamID', 'LRating_before': 'Rating_before', 'LRating_after': 'Rating_after'}\n",
    ")#and losers\n",
    "\n",
    "#Combine winners and losers\n",
    "tmp3 = pd.concat([tmp, tmp2], ignore_index=True)\n",
    "\n",
    "#Find last game each team played, that is, their final rating before the tournament. So the maximum DayNum for each Season-TeamID combination\n",
    "tmp4 = tmp3.groupby(['Season', 'TeamID'])['DayNum'].max().reset_index()\n",
    "\n",
    "#Keep only last game for each team and filter from 2010 onward\n",
    "elo_mens = tmp3.merge(tmp4, on=['Season', 'TeamID', 'DayNum'], how='inner')\n",
    "elo_mens = elo_mens[elo_mens['Season'] >= 2010][['TeamID', 'Rating_after', 'Season']]\n",
    "elo_mens = elo_mens.rename(columns={'Rating_after': 'Rating'})\n",
    "\n",
    "#Merge with team names\n",
    "elo_mens = elo_mens.merge(teams_mens, on='TeamID', how='left')#[[\"TeamID\", \"TeamName\", \"Season\", \"Rating\"]]\n"
   ]
  },
  {
   "cell_type": "code",
   "execution_count": 30,
   "metadata": {},
   "outputs": [
    {
     "data": {
      "text/plain": [
       "(5639, 6)"
      ]
     },
     "execution_count": 30,
     "metadata": {},
     "output_type": "execute_result"
    }
   ],
   "source": [
    "elo_mens.shape"
   ]
  },
  {
   "cell_type": "code",
   "execution_count": 31,
   "metadata": {},
   "outputs": [],
   "source": [
    "\n",
    "\n",
    "res_w_regular = res_w[res_w[\"type\"] == \"Regular\"]\n",
    "\n",
    "tmp = res_w_regular[[\"Season\", \"DayNum\", \"WTeamID\", \"WRating_before\", \"WRating_after\"]].rename(\n",
    "    columns={\"WTeamID\": \"TeamID\", \"WRating_before\": \"Rating_before\", \"WRating_after\": \"Rating_after\"}\n",
    ")\n",
    "\n",
    "tmp2 = res_w_regular[[\"Season\", \"DayNum\", \"LTeamID\", \"LRating_before\", \"LRating_after\"]].rename(\n",
    "    columns={\"LTeamID\": \"TeamID\", \"LRating_before\": \"Rating_before\", \"LRating_after\": \"Rating_after\"}\n",
    ")\n",
    "\n",
    "# Step 3: Combine winners and losers\n",
    "tmp3 = pd.concat([tmp, tmp2], ignore_index=True)\n",
    "\n",
    "# Step 4: Find last game each team played\n",
    "tmp4 = tmp3.groupby([\"Season\", \"TeamID\"])[\"DayNum\"].max().reset_index()\n",
    "\n",
    "# Step 5: Keep only last game for each team and filter from 2010 onward\n",
    "elo_womens = tmp3.merge(tmp4, on=[\"Season\", \"TeamID\", \"DayNum\"], how=\"inner\")\n",
    "elo_womens = elo_womens[elo_womens[\"Season\"] >= 2010][[\"TeamID\", \"Rating_after\", \"Season\"]]\n",
    "elo_womens = elo_womens.rename(columns={\"Rating_after\": \"Rating\"})\n",
    "\n",
    "# Step 6: Merge with team names\n",
    "elo_womens = elo_womens.merge(teams_womens, on=\"TeamID\", how=\"left\")#[[\"TeamID\", \"TeamName\", \"Season\", \"Rating\"]]\n",
    "\n"
   ]
  },
  {
   "cell_type": "code",
   "execution_count": 32,
   "metadata": {},
   "outputs": [],
   "source": [
    "Output_path = \"/Users/jimmyhe/Desktop/ML/KaggleCompetitions/NCAA/Feature_Eng/\"\n",
    "elo_mens.to_csv(Output_path + \"mine_2025_EloRating_mens_10.csv\", index=False)\n",
    "elo_womens.to_csv(Output_path + \"mine_2025_EloRating_womens_10.csv\", index=False)"
   ]
  }
 ],
 "metadata": {
  "kernelspec": {
   "display_name": "NCAA",
   "language": "python",
   "name": "python3"
  },
  "language_info": {
   "codemirror_mode": {
    "name": "ipython",
    "version": 3
   },
   "file_extension": ".py",
   "mimetype": "text/x-python",
   "name": "python",
   "nbconvert_exporter": "python",
   "pygments_lexer": "ipython3",
   "version": "3.13.2"
  }
 },
 "nbformat": 4,
 "nbformat_minor": 2
}
