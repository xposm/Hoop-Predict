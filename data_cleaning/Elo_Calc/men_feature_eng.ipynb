{
 "cells": [
  {
   "cell_type": "code",
   "execution_count": null,
   "metadata": {},
   "outputs": [],
   "source": [
    "import pandas as pd "
   ]
  },
  {
   "cell_type": "markdown",
   "metadata": {},
   "source": [
    "Calculate some features and concatenate the seeds. REMEMBER TO IMPUTE NULL SEEDS"
   ]
  },
  {
   "cell_type": "markdown",
   "metadata": {},
   "source": [
    "This notebook is the version of the create-feature-mens made by flaty rewritten in python "
   ]
  },
  {
   "cell_type": "code",
   "execution_count": 1,
   "metadata": {},
   "outputs": [
    {
     "ename": "NameError",
     "evalue": "name 'pd' is not defined",
     "output_type": "error",
     "traceback": [
      "\u001b[31m---------------------------------------------------------------------------\u001b[39m",
      "\u001b[31mNameError\u001b[39m                                 Traceback (most recent call last)",
      "\u001b[36mCell\u001b[39m\u001b[36m \u001b[39m\u001b[32mIn[1]\u001b[39m\u001b[32m, line 3\u001b[39m\n\u001b[32m      1\u001b[39m year = \u001b[32m2025\u001b[39m\n\u001b[32m      2\u001b[39m base_path = \u001b[33mf\u001b[39m\u001b[33m\"\u001b[39m\u001b[33m/Users/jimmyhe/Desktop/ML/KaggleCompetitions/NCAA/DataPreparation/CompData/march-machine-learning-mania-\u001b[39m\u001b[38;5;132;01m{\u001b[39;00myear\u001b[38;5;132;01m}\u001b[39;00m\u001b[33m/\u001b[39m\u001b[33m\"\u001b[39m\n\u001b[32m----> \u001b[39m\u001b[32m3\u001b[39m result_regualar_men = \u001b[43mpd\u001b[49m.read_csv(base_path + \u001b[33m\"\u001b[39m\u001b[33mMRegularSeasonCompactResults.csv\u001b[39m\u001b[33m\"\u001b[39m)\n\u001b[32m      4\u001b[39m M_seed = pd.read_csv(base_path + \u001b[33m\"\u001b[39m\u001b[33mMNCAATourneySeeds.csv\u001b[39m\u001b[33m\"\u001b[39m)\n\u001b[32m      5\u001b[39m M_teams = pd.read_csv(base_path + \u001b[33m\"\u001b[39m\u001b[33mMTeams.csv\u001b[39m\u001b[33m\"\u001b[39m)\n",
      "\u001b[31mNameError\u001b[39m: name 'pd' is not defined"
     ]
    }
   ],
   "source": [
    "year = 2025\n",
    "base_path = f\"/Users/jimmyhe/Desktop/ML/KaggleCompetitions/NCAA/DataPreparation/CompData/march-machine-learning-mania-{year}/\"\n",
    "result_regualar_men = pd.read_csv(base_path + \"MRegularSeasonCompactResults.csv\")\n",
    "M_seed = pd.read_csv(base_path + \"MNCAATourneySeeds.csv\")\n",
    "M_teams = pd.read_csv(base_path + \"MTeams.csv\")\n",
    "elo_rating = pd.read_csv(\"/Users/jimmyhe/Desktop/ML/KaggleCompetitions/NCAA/Feature_Eng/mine_2025_EloRating_mens_10.csv\")\n",
    "\n"
   ]
  },
  {
   "cell_type": "code",
   "execution_count": null,
   "metadata": {},
   "outputs": [
    {
     "data": {
      "text/plain": [
       "Index(['TeamID', 'Rating', 'Season', 'TeamName', 'FirstD1Season',\n",
       "       'LastD1Season'],\n",
       "      dtype='object')"
      ]
     },
     "execution_count": 45,
     "metadata": {},
     "output_type": "execute_result"
    }
   ],
   "source": [
    "elo_rating.columns"
   ]
  },
  {
   "cell_type": "code",
   "execution_count": null,
   "metadata": {},
   "outputs": [],
   "source": [
    "\n",
    "\n",
    "def create_features(team_id, result_regular, seed):\n",
    "    # Filter games where the team played\n",
    "    tmp = result_regular[(result_regular['WTeamID'] == team_id) | (result_regular['LTeamID'] == team_id)]\n",
    "    \n",
    "    # Process seed data\n",
    "    seed_tmp = seed[seed['TeamID'] == team_id].copy()\n",
    "    seed_tmp['Seed'] = seed_tmp['Seed'].str[1:3].astype(int)\n",
    "    seed_tmp = seed_tmp.drop(columns=['TeamID'])\n",
    "    \n",
    "    # Reorganize data for wins\n",
    "    tmp2 = tmp.copy()\n",
    "    tmp2 = tmp2.rename(columns={\n",
    "        'WTeamID': 'TeamID', \n",
    "        'WScore': 'Score', \n",
    "        'LTeamID': 'Opp_TeamID', \n",
    "        'LScore': 'Opp_Score'\n",
    "    })\n",
    "    \n",
    "    # Reorganize data for losses\n",
    "    tmp3 = tmp.copy()\n",
    "    tmp3 = tmp3.rename(columns={\n",
    "        'LTeamID': 'TeamID', \n",
    "        'LScore': 'Score', \n",
    "        'WTeamID': 'Opp_TeamID', \n",
    "        'WScore': 'Opp_Score'\n",
    "    })\n",
    "    \n",
    "    # Combine and filter\n",
    "    tmp4 = pd.concat([tmp2, tmp3])\n",
    "    tmp4 = tmp4[tmp4['TeamID'] == team_id].copy()\n",
    "    tmp4['diff_score'] = tmp4['Score'] - tmp4['Opp_Score']\n",
    "    tmp4['win'] = (tmp4['diff_score'] > 0).astype(int)\n",
    "    tmp4 = tmp4.sort_values(['Season', 'DayNum'])\n",
    "    \n",
    "    # Calculate season metrics\n",
    "    tmp5 = tmp4.groupby('Season').agg(\n",
    "        count=('TeamID', 'size'),\n",
    "        win_count=('win', 'sum'),\n",
    "        gap_avg=('diff_score', 'mean')\n",
    "    ).reset_index()\n",
    "    \n",
    "    tmp5['win_rate'] = tmp5['win_count'] / tmp5['count']\n",
    "    \n",
    "    # Join with seed data\n",
    "    tmp5 = pd.merge(tmp5, seed_tmp, on='Season', how='left')\n",
    "    tmp5['TeamID'] = team_id\n",
    "    \n",
    "    return tmp5\n",
    "\n",
    "# Process all teams\n",
    "results = []\n",
    "for team_id in M_teams['TeamID']:\n",
    "    tmp = create_features(team_id, result_regualar_men, M_seed)\n",
    "    results.append(tmp)\n",
    "\n",
    "res = pd.concat(results)\n",
    "df_feat = pd.merge(res, elo_rating, on=['TeamID', 'Season'], how='left')\n",
    "df_feat = df_feat.sort_values(['Season', 'Seed'], ascending= [False, True])\n",
    "\n",
    "\n"
   ]
  },
  {
   "cell_type": "code",
   "execution_count": null,
   "metadata": {},
   "outputs": [
    {
     "data": {
      "text/plain": [
       "((13388, 11), (68, 11))"
      ]
     },
     "execution_count": 47,
     "metadata": {},
     "output_type": "execute_result"
    }
   ],
   "source": [
    "tmp = df_feat[df_feat['Seed'].notnull() & (df_feat['Season'] == 2025)]\n",
    "\n",
    "df_feat.shape, tmp.shape"
   ]
  },
  {
   "cell_type": "code",
   "execution_count": null,
   "metadata": {},
   "outputs": [],
   "source": [
    "OUTPUT_PATH = \"/Users/jimmyhe/Desktop/ML/KaggleCompetitions/NCAA/Train_Set/MEN/\"\n",
    "df_feat.to_csv(OUTPUT_PATH + 'flaty_elo_M.csv')"
   ]
  },
  {
   "cell_type": "code",
   "execution_count": null,
   "metadata": {},
   "outputs": [],
   "source": []
  }
 ],
 "metadata": {
  "kernelspec": {
   "display_name": "NCAA",
   "language": "python",
   "name": "python3"
  },
  "language_info": {
   "codemirror_mode": {
    "name": "ipython",
    "version": 3
   },
   "file_extension": ".py",
   "mimetype": "text/x-python",
   "name": "python",
   "nbconvert_exporter": "python",
   "pygments_lexer": "ipython3",
   "version": "3.13.2"
  }
 },
 "nbformat": 4,
 "nbformat_minor": 2
}
