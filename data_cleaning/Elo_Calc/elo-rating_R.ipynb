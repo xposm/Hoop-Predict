{
 "cells": [
  {
   "cell_type": "code",
   "execution_count": 5,
   "id": "0ab7a116",
   "metadata": {
    "execution": {
     "iopub.execute_input": "2024-04-18T00:13:59.482322Z",
     "iopub.status.busy": "2024-04-18T00:13:59.479969Z",
     "iopub.status.idle": "2024-04-18T00:14:00.768429Z",
     "shell.execute_reply": "2024-04-18T00:14:00.766244Z"
    },
    "papermill": {
     "duration": 1.297069,
     "end_time": "2024-04-18T00:14:00.771185",
     "exception": false,
     "start_time": "2024-04-18T00:13:59.474116",
     "status": "completed"
    },
    "tags": [],
    "vscode": {
     "languageId": "r"
    }
   },
   "outputs": [],
   "source": [
    "library(tidyverse)\n",
    "library(progress)\n",
    "library(readr)\n",
    "library(dplyr)\n",
    "library(glue)\n"
   ]
  },
  {
   "cell_type": "code",
   "execution_count": 6,
   "id": "2193e897",
   "metadata": {
    "execution": {
     "iopub.execute_input": "2024-04-18T00:14:00.812223Z",
     "iopub.status.busy": "2024-04-18T00:14:00.779277Z",
     "iopub.status.idle": "2024-04-18T00:14:01.932085Z",
     "shell.execute_reply": "2024-04-18T00:14:01.930108Z"
    },
    "papermill": {
     "duration": 1.160585,
     "end_time": "2024-04-18T00:14:01.934859",
     "exception": false,
     "start_time": "2024-04-18T00:14:00.774274",
     "status": "completed"
    },
    "tags": [],
    "vscode": {
     "languageId": "r"
    }
   },
   "outputs": [
    {
     "name": "stderr",
     "output_type": "stream",
     "text": [
      "\u001b[1mRows: \u001b[22m\u001b[34m2451\u001b[39m \u001b[1mColumns: \u001b[22m\u001b[34m8\u001b[39m\n",
      "\u001b[36m──\u001b[39m \u001b[1mColumn specification\u001b[22m \u001b[36m────────────────────────────────────────────────────────\u001b[39m\n",
      "\u001b[1mDelimiter:\u001b[22m \",\"\n",
      "\u001b[31mchr\u001b[39m (1): WLoc\n",
      "\u001b[32mdbl\u001b[39m (7): Season, DayNum, WTeamID, WScore, LTeamID, LScore, NumOT\n",
      "\n",
      "\u001b[36mℹ\u001b[39m Use `spec()` to retrieve the full column specification for this data.\n",
      "\u001b[36mℹ\u001b[39m Specify the column types or set `show_col_types = FALSE` to quiet this message.\n",
      "\u001b[1mRows: \u001b[22m\u001b[34m187289\u001b[39m \u001b[1mColumns: \u001b[22m\u001b[34m8\u001b[39m\n",
      "\u001b[36m──\u001b[39m \u001b[1mColumn specification\u001b[22m \u001b[36m────────────────────────────────────────────────────────\u001b[39m\n",
      "\u001b[1mDelimiter:\u001b[22m \",\"\n",
      "\u001b[31mchr\u001b[39m (1): WLoc\n",
      "\u001b[32mdbl\u001b[39m (7): Season, DayNum, WTeamID, WScore, LTeamID, LScore, NumOT\n",
      "\n",
      "\u001b[36mℹ\u001b[39m Use `spec()` to retrieve the full column specification for this data.\n",
      "\u001b[36mℹ\u001b[39m Specify the column types or set `show_col_types = FALSE` to quiet this message.\n",
      "\u001b[1mRows: \u001b[22m\u001b[34m1756\u001b[39m \u001b[1mColumns: \u001b[22m\u001b[34m9\u001b[39m\n",
      "\u001b[36m──\u001b[39m \u001b[1mColumn specification\u001b[22m \u001b[36m────────────────────────────────────────────────────────\u001b[39m\n",
      "\u001b[1mDelimiter:\u001b[22m \",\"\n",
      "\u001b[31mchr\u001b[39m (2): WLoc, SecondaryTourney\n",
      "\u001b[32mdbl\u001b[39m (7): Season, DayNum, WTeamID, WScore, LTeamID, LScore, NumOT\n",
      "\n",
      "\u001b[36mℹ\u001b[39m Use `spec()` to retrieve the full column specification for this data.\n",
      "\u001b[36mℹ\u001b[39m Specify the column types or set `show_col_types = FALSE` to quiet this message.\n",
      "\u001b[1mRows: \u001b[22m\u001b[34m378\u001b[39m \u001b[1mColumns: \u001b[22m\u001b[34m4\u001b[39m\n",
      "\u001b[36m──\u001b[39m \u001b[1mColumn specification\u001b[22m \u001b[36m────────────────────────────────────────────────────────\u001b[39m\n",
      "\u001b[1mDelimiter:\u001b[22m \",\"\n",
      "\u001b[31mchr\u001b[39m (1): TeamName\n",
      "\u001b[32mdbl\u001b[39m (3): TeamID, FirstD1Season, LastD1Season\n",
      "\n",
      "\u001b[36mℹ\u001b[39m Use `spec()` to retrieve the full column specification for this data.\n",
      "\u001b[36mℹ\u001b[39m Specify the column types or set `show_col_types = FALSE` to quiet this message.\n",
      "\u001b[1mRows: \u001b[22m\u001b[34m1583\u001b[39m \u001b[1mColumns: \u001b[22m\u001b[34m8\u001b[39m\n",
      "\u001b[36m──\u001b[39m \u001b[1mColumn specification\u001b[22m \u001b[36m────────────────────────────────────────────────────────\u001b[39m\n",
      "\u001b[1mDelimiter:\u001b[22m \",\"\n",
      "\u001b[31mchr\u001b[39m (1): WLoc\n",
      "\u001b[32mdbl\u001b[39m (7): Season, DayNum, WTeamID, WScore, LTeamID, LScore, NumOT\n",
      "\n",
      "\u001b[36mℹ\u001b[39m Use `spec()` to retrieve the full column specification for this data.\n",
      "\u001b[36mℹ\u001b[39m Specify the column types or set `show_col_types = FALSE` to quiet this message.\n",
      "\u001b[1mRows: \u001b[22m\u001b[34m131587\u001b[39m \u001b[1mColumns: \u001b[22m\u001b[34m8\u001b[39m\n",
      "\u001b[36m──\u001b[39m \u001b[1mColumn specification\u001b[22m \u001b[36m────────────────────────────────────────────────────────\u001b[39m\n",
      "\u001b[1mDelimiter:\u001b[22m \",\"\n",
      "\u001b[31mchr\u001b[39m (1): WLoc\n",
      "\u001b[32mdbl\u001b[39m (7): Season, DayNum, WTeamID, WScore, LTeamID, LScore, NumOT\n",
      "\n",
      "\u001b[36mℹ\u001b[39m Use `spec()` to retrieve the full column specification for this data.\n",
      "\u001b[36mℹ\u001b[39m Specify the column types or set `show_col_types = FALSE` to quiet this message.\n",
      "\u001b[1mRows: \u001b[22m\u001b[34m376\u001b[39m \u001b[1mColumns: \u001b[22m\u001b[34m2\u001b[39m\n",
      "\u001b[36m──\u001b[39m \u001b[1mColumn specification\u001b[22m \u001b[36m────────────────────────────────────────────────────────\u001b[39m\n",
      "\u001b[1mDelimiter:\u001b[22m \",\"\n",
      "\u001b[31mchr\u001b[39m (1): TeamName\n",
      "\u001b[32mdbl\u001b[39m (1): TeamID\n",
      "\n",
      "\u001b[36mℹ\u001b[39m Use `spec()` to retrieve the full column specification for this data.\n",
      "\u001b[36mℹ\u001b[39m Specify the column types or set `show_col_types = FALSE` to quiet this message.\n"
     ]
    }
   ],
   "source": [
    "# Define the base path\n",
    "base_path <- \"/Users/jimmyhe/Desktop/ML/KaggleCompetitions/NCAA/DataPreparation/CompData/march-machine-learning-mania-2024/\"\n",
    "\n",
    "# Read the data using the base path\n",
    "result_tourney_mens <- read_csv(glue(\"{base_path}MNCAATourneyCompactResults.csv\"))\n",
    "result_regular_mens <- read_csv(glue(\"{base_path}MRegularSeasonCompactResults.csv\"))\n",
    "result_tourney_2nd_mens <- read_csv(glue(\"{base_path}MSecondaryTourneyCompactResults.csv\")) %>% \n",
    "  select(-SecondaryTourney)\n",
    "teams_mens <- read_csv(glue(\"{base_path}MTeams.csv\"))\n",
    "\n",
    "result_tourney_womens <- read_csv(glue(\"{base_path}WNCAATourneyCompactResults.csv\"))\n",
    "result_regular_womens <- read_csv(glue(\"{base_path}WRegularSeasonCompactResults.csv\"))\n",
    "teams_womens <- read_csv(glue(\"{base_path}WTeams.csv\"))\n"
   ]
  },
  {
   "cell_type": "code",
   "execution_count": 7,
   "id": "a95bc023",
   "metadata": {
    "execution": {
     "iopub.execute_input": "2024-04-18T00:14:01.947136Z",
     "iopub.status.busy": "2024-04-18T00:14:01.945518Z",
     "iopub.status.idle": "2024-04-18T00:14:02.545913Z",
     "shell.execute_reply": "2024-04-18T00:14:02.543930Z"
    },
    "papermill": {
     "duration": 0.609226,
     "end_time": "2024-04-18T00:14:02.548490",
     "exception": false,
     "start_time": "2024-04-18T00:14:01.939264",
     "status": "completed"
    },
    "tags": [],
    "vscode": {
     "languageId": "r"
    }
   },
   "outputs": [],
   "source": [
    "result_regular_mens <- result_regular_mens %>% mutate(type = \"regular\")\n",
    "result_tourney_mens <- result_tourney_mens %>% mutate(type = \"tourney\")\n",
    "result_tourney_2nd_mens <- result_tourney_2nd_mens %>% mutate(type = \"tourney_2nd\")\n",
    "\n",
    "result_merged_mens <- bind_rows(result_regular_mens, result_tourney_mens, result_tourney_2nd_mens) %>% \n",
    "  arrange(Season, DayNum) %>% \n",
    "  mutate(\n",
    "    WRating_before = 50,\n",
    "    LRating_before = 50,\n",
    "    WRating_after = 50,\n",
    "    LRating_after = 50\n",
    "  )\n",
    "\n",
    "result_regular_womens <- result_regular_womens %>% mutate(type = \"regular\")\n",
    "result_tourney_womens <- result_tourney_womens %>% mutate(type = \"tourney\")\n",
    "\n",
    "result_merged_womens <- bind_rows(result_regular_womens, result_tourney_womens) %>% \n",
    "  arrange(Season, DayNum) %>% \n",
    "  mutate(\n",
    "    WRating_before = 50,\n",
    "    LRating_before = 50,\n",
    "    WRating_after = 50,\n",
    "    LRating_after = 50\n",
    "  )"
   ]
  },
  {
   "cell_type": "code",
   "execution_count": 8,
   "id": "a0354ff2",
   "metadata": {
    "execution": {
     "iopub.execute_input": "2024-04-18T00:14:02.561021Z",
     "iopub.status.busy": "2024-04-18T00:14:02.559471Z",
     "iopub.status.idle": "2024-04-18T00:14:02.577425Z",
     "shell.execute_reply": "2024-04-18T00:14:02.575684Z"
    },
    "papermill": {
     "duration": 0.027088,
     "end_time": "2024-04-18T00:14:02.579918",
     "exception": false,
     "start_time": "2024-04-18T00:14:02.552830",
     "status": "completed"
    },
    "tags": [],
    "vscode": {
     "languageId": "r"
    }
   },
   "outputs": [],
   "source": [
    "update_elo_rating_mens <- function(df, teams, K) {\n",
    "  \n",
    "  n <- nrow(df)\n",
    "  pb <- progress_bar$new(total = n)\n",
    "  \n",
    "  for (i in 1:n) {\n",
    "    \n",
    "    WTeamID = df[i,3] %>% as.numeric()\n",
    "    LTeamID = df[i,5] %>% as.numeric()\n",
    "    \n",
    "    WTeamRating_before <- teams %>% filter(TeamID == WTeamID) %>% select(Rating) %>% as.numeric()\n",
    "    LTeamRating_before <- teams %>% filter(TeamID == LTeamID) %>% select(Rating) %>% as.numeric()\n",
    "    WTeam_num <- teams %>% filter(TeamID == WTeamID) %>% select(num) %>% as.numeric()\n",
    "    LTeam_num <- teams %>% filter(TeamID == LTeamID) %>% select(num) %>% as.numeric()\n",
    "    \n",
    "    WTeamRating_after <- WTeamRating_before + K*(1/(10^((WTeamRating_before-LTeamRating_before)/10)+1))\n",
    "    LTeamRating_after <- LTeamRating_before - K*(1/(10^((WTeamRating_before-LTeamRating_before)/10)+1))\n",
    "    \n",
    "    df[i,10] <- WTeamRating_before\n",
    "    df[i,11] <- LTeamRating_before\n",
    "    df[i,12] <- WTeamRating_after\n",
    "    df[i,13] <- LTeamRating_after\n",
    "    \n",
    "    teams[WTeam_num,5] <- WTeamRating_after\n",
    "    teams[LTeam_num,5] <- LTeamRating_after\n",
    "    \n",
    "    pb$tick()\n",
    "  }\n",
    "  \n",
    "  return(df)\n",
    "}\n",
    "\n",
    "update_elo_rating_womens <- function(df, teams, K) {\n",
    "  \n",
    "  n <- nrow(df)\n",
    "  pb <- progress_bar$new(total = n)\n",
    "  \n",
    "  for (i in 1:n) {\n",
    "    \n",
    "    WTeamID = df[i,3] %>% as.numeric()\n",
    "    LTeamID = df[i,5] %>% as.numeric()\n",
    "    \n",
    "    WTeamRating_before <- teams %>% filter(TeamID == WTeamID) %>% select(Rating) %>% as.numeric()\n",
    "    LTeamRating_before <- teams %>% filter(TeamID == LTeamID) %>% select(Rating) %>% as.numeric()\n",
    "    WTeam_num <- teams %>% filter(TeamID == WTeamID) %>% select(num) %>% as.numeric()\n",
    "    LTeam_num <- teams %>% filter(TeamID == LTeamID) %>% select(num) %>% as.numeric()\n",
    "    \n",
    "    WTeamRating_after <- WTeamRating_before + K*(1/(10^((WTeamRating_before-LTeamRating_before)/10)+1))\n",
    "    LTeamRating_after <- LTeamRating_before - K*(1/(10^((WTeamRating_before-LTeamRating_before)/10)+1))\n",
    "    \n",
    "    df[i,10] <- WTeamRating_before\n",
    "    df[i,11] <- LTeamRating_before\n",
    "    df[i,12] <- WTeamRating_after\n",
    "    df[i,13] <- LTeamRating_after\n",
    "    \n",
    "    teams[WTeam_num,3] <- WTeamRating_after\n",
    "    teams[LTeam_num,3] <- LTeamRating_after\n",
    "    \n",
    "    pb$tick()\n",
    "  }\n",
    "    \n",
    "  return(df)\n",
    "}"
   ]
  },
  {
   "cell_type": "code",
   "execution_count": 9,
   "id": "bd5cacd2",
   "metadata": {
    "execution": {
     "iopub.execute_input": "2024-04-18T00:14:02.593020Z",
     "iopub.status.busy": "2024-04-18T00:14:02.591338Z",
     "iopub.status.idle": "2024-04-18T02:21:26.974884Z",
     "shell.execute_reply": "2024-04-18T02:21:26.972742Z"
    },
    "papermill": {
     "duration": 7644.394533,
     "end_time": "2024-04-18T02:21:26.978797",
     "exception": false,
     "start_time": "2024-04-18T00:14:02.584264",
     "status": "completed"
    },
    "tags": [],
    "vscode": {
     "languageId": "r"
    }
   },
   "outputs": [],
   "source": [
    "K <- 1\n",
    "\n",
    "teams_add_mens <- teams_mens %>% mutate(Rating = 50, num = row_number())\n",
    "teams_add_womens <- teams_womens %>% mutate(Rating = 50, num = row_number())\n",
    "\n",
    "res_mens <- update_elo_rating_mens(result_merged_mens, teams_add_mens, K)\n",
    "res_womens <- update_elo_rating_womens(result_merged_womens, teams_add_womens, K)"
   ]
  },
  {
   "cell_type": "code",
   "execution_count": 10,
   "id": "1da7dc55",
   "metadata": {
    "execution": {
     "iopub.execute_input": "2024-04-18T02:21:27.589859Z",
     "iopub.status.busy": "2024-04-18T02:21:27.588156Z",
     "iopub.status.idle": "2024-04-18T02:21:28.116527Z",
     "shell.execute_reply": "2024-04-18T02:21:28.114774Z"
    },
    "papermill": {
     "duration": 1.133809,
     "end_time": "2024-04-18T02:21:28.119314",
     "exception": false,
     "start_time": "2024-04-18T02:21:26.985505",
     "status": "completed"
    },
    "tags": [],
    "vscode": {
     "languageId": "r"
    }
   },
   "outputs": [
    {
     "name": "stderr",
     "output_type": "stream",
     "text": [
      "\u001b[1m\u001b[22m`summarise()` has grouped output by 'Season'. You can override using the\n",
      "`.groups` argument.\n"
     ]
    }
   ],
   "source": [
    "res_regular <- res_mens %>% filter(type == \"regular\")\n",
    "\n",
    "tmp <- res_regular %>% select(Season, DayNum, WTeamID, WRating_before, WRating_after) %>% rename(TeamID = WTeamID, Rating_before = WRating_before, Rating_after = WRating_after)\n",
    "tmp2 <- res_regular %>% select(Season, DayNum, LTeamID, LRating_before, LRating_after) %>% rename(TeamID = LTeamID, Rating_before = LRating_before, Rating_after = LRating_after)\n",
    "\n",
    "tmp3 <- bind_rows(tmp, tmp2)\n",
    "\n",
    "tmp4 <- tmp3 %>% group_by(Season, TeamID) %>% summarise(DayNum = max(DayNum))\n",
    "\n",
    "elo_mens <- tmp3 %>% \n",
    "  inner_join(tmp4, by = c(\"Season\", \"TeamID\", \"DayNum\")) %>% \n",
    "  filter(Season >= 2010) %>% \n",
    "  select(TeamID, Rating_after, Season) %>% \n",
    "  rename(Rating = Rating_after) %>% \n",
    "  left_join(teams_mens, by = c(\"TeamID\")) %>% \n",
    "  select(TeamID, TeamName, Season, Rating)"
   ]
  },
  {
   "cell_type": "code",
   "execution_count": 16,
   "id": "b8c6ac3a",
   "metadata": {
    "execution": {
     "iopub.execute_input": "2024-04-18T02:21:28.134110Z",
     "iopub.status.busy": "2024-04-18T02:21:28.132580Z",
     "iopub.status.idle": "2024-04-18T02:21:28.592483Z",
     "shell.execute_reply": "2024-04-18T02:21:28.590520Z"
    },
    "papermill": {
     "duration": 0.47101,
     "end_time": "2024-04-18T02:21:28.594988",
     "exception": false,
     "start_time": "2024-04-18T02:21:28.123978",
     "status": "completed"
    },
    "tags": [],
    "vscode": {
     "languageId": "r"
    }
   },
   "outputs": [
    {
     "name": "stderr",
     "output_type": "stream",
     "text": [
      "\u001b[1m\u001b[22m`summarise()` has grouped output by 'Season'. You can override using the\n",
      "`.groups` argument.\n"
     ]
    },
    {
     "ename": "ERROR",
     "evalue": "\u001b[1m\u001b[33mError\u001b[39m in `select()`:\u001b[22m\n\u001b[33m!\u001b[39m Can't select columns that don't exist.\n\u001b[31m✖\u001b[39m Column `FirstD1Season` doesn't exist.\n",
     "output_type": "error",
     "traceback": [
      "\u001b[1m\u001b[33mError\u001b[39m in `select()`:\u001b[22m\n\u001b[33m!\u001b[39m Can't select columns that don't exist.\n\u001b[31m✖\u001b[39m Column `FirstD1Season` doesn't exist.\nTraceback:\n",
      "1. tmp3 %>% inner_join(tmp4, by = c(\"Season\", \"TeamID\", \"DayNum\")) %>% \n .     filter(Season >= 2010) %>% select(TeamID, Rating_after, Season) %>% \n .     rename(Rating = Rating_after) %>% left_join(teams_womens, \n .     by = c(\"TeamID\")) %>% select(TeamID, TeamName, FirstD1Season, \n .     LastD1Season, Rating, num, Season, )",
      "2. select(., TeamID, TeamName, FirstD1Season, LastD1Season, Rating, \n .     num, Season, )",
      "3. select.data.frame(., TeamID, TeamName, FirstD1Season, LastD1Season, \n .     Rating, num, Season, )",
      "4. tidyselect::eval_select(expr(c(...)), data = .data, error_call = error_call)",
      "5. eval_select_impl(data, names(data), as_quosure(expr, env), include = include, \n .     exclude = exclude, strict = strict, name_spec = name_spec, \n .     allow_rename = allow_rename, allow_empty = allow_empty, allow_predicates = allow_predicates, \n .     error_call = error_call, )",
      "6. with_subscript_errors(out <- vars_select_eval(vars, expr, strict = strict, \n .     data = x, name_spec = name_spec, uniquely_named = uniquely_named, \n .     allow_rename = allow_rename, allow_empty = allow_empty, allow_predicates = allow_predicates, \n .     type = type, error_call = error_call), type = type)",
      "7. withCallingHandlers(expr, vctrs_error_subscript = function(cnd) {\n .     cnd$subscript_action <- subscript_action(type)\n .     cnd$subscript_elt <- \"column\"\n .     cnd_signal(cnd)\n . })",
      "8. vars_select_eval(vars, expr, strict = strict, data = x, name_spec = name_spec, \n .     uniquely_named = uniquely_named, allow_rename = allow_rename, \n .     allow_empty = allow_empty, allow_predicates = allow_predicates, \n .     type = type, error_call = error_call)",
      "9. walk_data_tree(expr, data_mask, context_mask)",
      "10. eval_c(expr, data_mask, context_mask)",
      "11. reduce_sels(node, data_mask, context_mask, init = init)",
      "12. walk_data_tree(new, data_mask, context_mask)",
      "13. as_indices_sel_impl(out, vars = vars, strict = strict, data = data, \n  .     allow_predicates = allow_predicates, call = error_call, arg = as_label(expr))",
      "14. as_indices_impl(x, vars, call = call, arg = arg, strict = strict)",
      "15. chr_as_locations(x, vars, call = call, arg = arg)",
      "16. vctrs::vec_as_location(x, n = length(vars), names = vars, call = call, \n  .     arg = arg)",
      "17. (function () \n  . stop_subscript_oob(i = i, subscript_type = subscript_type, names = names, \n  .     subscript_action = subscript_action, subscript_arg = subscript_arg, \n  .     call = call))()",
      "18. stop_subscript_oob(i = i, subscript_type = subscript_type, names = names, \n  .     subscript_action = subscript_action, subscript_arg = subscript_arg, \n  .     call = call)",
      "19. stop_subscript(class = \"vctrs_error_subscript_oob\", i = i, subscript_type = subscript_type, \n  .     ..., call = call)",
      "20. abort(class = c(class, \"vctrs_error_subscript\"), i = i, ..., \n  .     call = call)",
      "21. signal_abort(cnd, .file)",
      "22. signalCondition(cnd)",
      "23. (function (cnd) \n  . {\n  .     cnd$subscript_action <- subscript_action(type)\n  .     cnd$subscript_elt <- \"column\"\n  .     cnd_signal(cnd)\n  . })(structure(list(message = \"\", trace = structure(list(call = list(\n  .     IRkernel::main(), kernel$run(), handle_shell(), executor$execute(msg), \n  .     tryCatch(evaluate(request$content$code, envir = .GlobalEnv, \n  .         output_handler = oh, stop_on_error = 1L), interrupt = function(cond) {\n  .         log_debug(\"Interrupt during execution\")\n  .         interrupted <<- TRUE\n  .     }, error = .self$handle_error), tryCatchList(expr, classes, \n  .         parentenv, handlers), tryCatchOne(tryCatchList(expr, \n  .         names[-nh], parentenv, handlers[-nh]), names[nh], parentenv, \n  .         handlers[[nh]]), doTryCatch(return(expr), name, parentenv, \n  .         handler), tryCatchList(expr, names[-nh], parentenv, handlers[-nh]), \n  .     tryCatchOne(expr, names, parentenv, handlers[[1L]]), doTryCatch(return(expr), \n  .         name, parentenv, handler), evaluate(request$content$code, \n  .         envir = .GlobalEnv, output_handler = oh, stop_on_error = 1L), \n  .     evaluate_call(expr, parsed$src[[i]], envir = envir, enclos = enclos, \n  .         debug = debug, last = i == length(out), use_try = stop_on_error != \n  .             2L, keep_warning = keep_warning, keep_message = keep_message, \n  .         log_echo = log_echo, log_warning = log_warning, output_handler = output_handler, \n  .         include_timing = include_timing), timing_fn(handle(ev <- withCallingHandlers(withVisible(eval_with_user_handlers(expr, \n  .         envir, enclos, user_handlers)), warning = wHandler, error = eHandler, \n  .         message = mHandler))), handle(ev <- withCallingHandlers(withVisible(eval_with_user_handlers(expr, \n  .         envir, enclos, user_handlers)), warning = wHandler, error = eHandler, \n  .         message = mHandler)), try(f, silent = TRUE), tryCatch(expr, \n  .         error = function(e) {\n  .             call <- conditionCall(e)\n  .             if (!is.null(call)) {\n  .                 if (identical(call[[1L]], quote(doTryCatch))) \n  .                   call <- sys.call(-4L)\n  .                 dcall <- deparse(call, nlines = 1L)\n  .                 prefix <- paste(\"Error in\", dcall, \": \")\n  .                 LONG <- 75L\n  .                 sm <- strsplit(conditionMessage(e), \"\\n\")[[1L]]\n  .                 w <- 14L + nchar(dcall, type = \"w\") + nchar(sm[1L], \n  .                   type = \"w\")\n  .                 if (is.na(w)) \n  .                   w <- 14L + nchar(dcall, type = \"b\") + nchar(sm[1L], \n  .                     type = \"b\")\n  .                 if (w > LONG) \n  .                   prefix <- paste0(prefix, \"\\n  \")\n  .             }\n  .             else prefix <- \"Error : \"\n  .             msg <- paste0(prefix, conditionMessage(e), \"\\n\")\n  .             .Internal(seterrmessage(msg[1L]))\n  .             if (!silent && isTRUE(getOption(\"show.error.messages\"))) {\n  .                 cat(msg, file = outFile)\n  .                 .Internal(printDeferredWarnings())\n  .             }\n  .             invisible(structure(msg, class = \"try-error\", condition = e))\n  .         }), tryCatchList(expr, classes, parentenv, handlers), \n  .     tryCatchOne(expr, names, parentenv, handlers[[1L]]), doTryCatch(return(expr), \n  .         name, parentenv, handler), withCallingHandlers(withVisible(eval_with_user_handlers(expr, \n  .         envir, enclos, user_handlers)), warning = wHandler, error = eHandler, \n  .         message = mHandler), withVisible(eval_with_user_handlers(expr, \n  .         envir, enclos, user_handlers)), eval_with_user_handlers(expr, \n  .         envir, enclos, user_handlers), eval(expr, envir, enclos), \n  .     eval(expr, envir, enclos), tmp3 %>% inner_join(tmp4, by = c(\"Season\", \n  .         \"TeamID\", \"DayNum\")) %>% filter(Season >= 2010) %>% select(TeamID, \n  .         Rating_after, Season) %>% rename(Rating = Rating_after) %>% \n  .         left_join(teams_womens, by = c(\"TeamID\")) %>% select(TeamID, \n  .         TeamName, FirstD1Season, LastD1Season, Rating, num, Season, \n  .         ), select(., TeamID, TeamName, FirstD1Season, LastD1Season, \n  .         Rating, num, Season, ), select.data.frame(., TeamID, \n  .         TeamName, FirstD1Season, LastD1Season, Rating, num, Season, \n  .         ), tidyselect::eval_select(expr(c(...)), data = .data, \n  .         error_call = error_call), eval_select_impl(data, names(data), \n  .         as_quosure(expr, env), include = include, exclude = exclude, \n  .         strict = strict, name_spec = name_spec, allow_rename = allow_rename, \n  .         allow_empty = allow_empty, allow_predicates = allow_predicates, \n  .         error_call = error_call, ), with_subscript_errors(out <- vars_select_eval(vars, \n  .         expr, strict = strict, data = x, name_spec = name_spec, \n  .         uniquely_named = uniquely_named, allow_rename = allow_rename, \n  .         allow_empty = allow_empty, allow_predicates = allow_predicates, \n  .         type = type, error_call = error_call), type = type), \n  .     withCallingHandlers(expr, vctrs_error_subscript = function(cnd) {\n  .         cnd$subscript_action <- subscript_action(type)\n  .         cnd$subscript_elt <- \"column\"\n  .         cnd_signal(cnd)\n  .     }), vars_select_eval(vars, expr, strict = strict, data = x, \n  .         name_spec = name_spec, uniquely_named = uniquely_named, \n  .         allow_rename = allow_rename, allow_empty = allow_empty, \n  .         allow_predicates = allow_predicates, type = type, error_call = error_call), \n  .     walk_data_tree(expr, data_mask, context_mask), eval_c(expr, \n  .         data_mask, context_mask), reduce_sels(node, data_mask, \n  .         context_mask, init = init), walk_data_tree(new, data_mask, \n  .         context_mask), as_indices_sel_impl(out, vars = vars, \n  .         strict = strict, data = data, allow_predicates = allow_predicates, \n  .         call = error_call, arg = as_label(expr)), as_indices_impl(x, \n  .         vars, call = call, arg = arg, strict = strict), chr_as_locations(x, \n  .         vars, call = call, arg = arg), vctrs::vec_as_location(x, \n  .         n = length(vars), names = vars, call = call, arg = arg), \n  .     `<fn>`(), stop_subscript_oob(i = i, subscript_type = subscript_type, \n  .         names = names, subscript_action = subscript_action, subscript_arg = subscript_arg, \n  .         call = call), stop_subscript(class = \"vctrs_error_subscript_oob\", \n  .         i = i, subscript_type = subscript_type, ..., call = call), \n  .     abort(class = c(class, \"vctrs_error_subscript\"), i = i, ..., \n  .         call = call)), parent = c(0L, 1L, 2L, 3L, 4L, 5L, 6L, \n  . 7L, 6L, 9L, 10L, 4L, 12L, 13L, 13L, 15L, 16L, 17L, 18L, 19L, \n  . 13L, 13L, 13L, 23L, 24L, 0L, 0L, 0L, 28L, 29L, 30L, 31L, 30L, \n  . 33L, 34L, 35L, 36L, 37L, 38L, 39L, 40L, 0L, 42L, 43L, 44L), visible = c(TRUE, \n  . TRUE, TRUE, TRUE, TRUE, TRUE, TRUE, TRUE, TRUE, TRUE, TRUE, TRUE, \n  . TRUE, TRUE, TRUE, TRUE, TRUE, TRUE, TRUE, TRUE, TRUE, TRUE, TRUE, \n  . TRUE, TRUE, TRUE, TRUE, TRUE, FALSE, FALSE, FALSE, FALSE, FALSE, \n  . FALSE, FALSE, FALSE, FALSE, FALSE, FALSE, FALSE, FALSE, FALSE, \n  . FALSE, FALSE, FALSE), namespace = c(\"IRkernel\", NA, \"IRkernel\", \n  . NA, \"base\", \"base\", \"base\", \"base\", \"base\", \"base\", \"base\", \"evaluate\", \n  . \"evaluate\", \"evaluate\", \"evaluate\", \"base\", \"base\", \"base\", \"base\", \n  . \"base\", \"base\", \"base\", \"evaluate\", \"base\", \"base\", NA, \"dplyr\", \n  . \"dplyr\", \"tidyselect\", \"tidyselect\", \"tidyselect\", \"base\", \"tidyselect\", \n  . \"tidyselect\", \"tidyselect\", \"tidyselect\", \"tidyselect\", \"tidyselect\", \n  . \"tidyselect\", \"tidyselect\", \"vctrs\", \"vctrs\", \"vctrs\", \"vctrs\", \n  . \"rlang\"), scope = c(\"::\", NA, \"local\", NA, \"::\", \"local\", \"local\", \n  . \"local\", \"local\", \"local\", \"local\", \"::\", \":::\", \"local\", \"local\", \n  . \"::\", \"::\", \"local\", \"local\", \"local\", \"::\", \"::\", \":::\", \"::\", \n  . \"::\", NA, \"::\", \":::\", \"::\", \":::\", \":::\", \"::\", \":::\", \":::\", \n  . \":::\", \":::\", \":::\", \":::\", \":::\", \":::\", \"::\", \"local\", \":::\", \n  . \":::\", \"::\"), error_frame = c(FALSE, FALSE, FALSE, FALSE, FALSE, \n  . FALSE, FALSE, FALSE, FALSE, FALSE, FALSE, FALSE, FALSE, FALSE, \n  . FALSE, FALSE, FALSE, FALSE, FALSE, FALSE, FALSE, FALSE, FALSE, \n  . FALSE, FALSE, FALSE, FALSE, TRUE, FALSE, FALSE, FALSE, FALSE, \n  . FALSE, FALSE, FALSE, FALSE, FALSE, FALSE, FALSE, FALSE, FALSE, \n  . FALSE, FALSE, FALSE, FALSE)), row.names = c(NA, -45L), version = 2L, class = c(\"rlang_trace\", \n  . \"rlib_trace\", \"tbl\", \"data.frame\")), parent = NULL, i = \"FirstD1Season\", \n  .     subscript_type = \"character\", names = c(\"TeamID\", \"Rating\", \n  .     \"Season\", \"TeamName\"), subscript_action = NULL, subscript_arg = \"FirstD1Season\", \n  .     rlang = list(inherit = TRUE), call = select(., TeamID, TeamName, \n  .         FirstD1Season, LastD1Season, Rating, num, Season, )), class = c(\"vctrs_error_subscript_oob\", \n  . \"vctrs_error_subscript\", \"rlang_error\", \"error\", \"condition\")))",
      "24. cnd_signal(cnd)",
      "25. signal_abort(cnd)"
     ]
    }
   ],
   "source": [
    "res_regular <- res_womens %>% filter(type == \"regular\")\n",
    "\n",
    "tmp <- res_regular %>% select(Season, DayNum, WTeamID, WRating_before, WRating_after) %>% rename(TeamID = WTeamID, Rating_before = WRating_before, Rating_after = WRating_after)\n",
    "tmp2 <- res_regular %>% select(Season, DayNum, LTeamID, LRating_before, LRating_after) %>% rename(TeamID = LTeamID, Rating_before = LRating_before, Rating_after = LRating_after)\n",
    "\n",
    "tmp3 <- bind_rows(tmp, tmp2)\n",
    "\n",
    "tmp4 <- tmp3 %>% group_by(Season, TeamID) %>% summarise(DayNum = max(DayNum))\n",
    "\n",
    "elo_womens <- tmp3 %>% \n",
    "  inner_join(tmp4, by = c(\"Season\", \"TeamID\", \"DayNum\")) %>% \n",
    "  filter(Season >= 2010) %>% \n",
    "  select(TeamID, Rating_after, Season) %>% \n",
    "  rename(Rating = Rating_after) %>% \n",
    "  left_join(teams_womens, by = c(\"TeamID\")) %>% \n",
    "  select(TeamID, TeamName,FirstD1Season,LastD1Season, Rating, num, Season, )"
   ]
  },
  {
   "cell_type": "code",
   "execution_count": 14,
   "id": "c2c80fcc",
   "metadata": {
    "vscode": {
     "languageId": "r"
    }
   },
   "outputs": [],
   "source": [
    "elo_mens_sorted <- elo_mens %>%\n",
    "  arrange(desc(Season), TeamName)\n",
    "\n",
    "\n",
    "elo_womens_sorted <- elo_womens %>%\n",
    "  arrange(desc(Season), TeamName)\n",
    "\n",
    "\n",
    "elo_mens_sorted %>% write_csv(\"Mine_EloRating_mens_10_sorted.csv\")\n",
    "elo_womens_sorted %>% write_csv(\"Mine_EloRating_womens_10_sorted.csv\")"
   ]
  },
  {
   "cell_type": "code",
   "execution_count": 15,
   "id": "51350e1e",
   "metadata": {
    "vscode": {
     "languageId": "r"
    }
   },
   "outputs": [
    {
     "name": "stderr",
     "output_type": "stream",
     "text": [
      "\u001b[1mRows: \u001b[22m\u001b[34m5670\u001b[39m \u001b[1mColumns: \u001b[22m\u001b[34m7\u001b[39m\n",
      "\u001b[36m──\u001b[39m \u001b[1mColumn specification\u001b[22m \u001b[36m────────────────────────────────────────────────────────\u001b[39m\n",
      "\u001b[1mDelimiter:\u001b[22m \",\"\n",
      "\u001b[31mchr\u001b[39m (1): TeamName\n",
      "\u001b[32mdbl\u001b[39m (6): TeamID, FirstD1Season, LastD1Season, Rating, num, Season\n",
      "\n",
      "\u001b[36mℹ\u001b[39m Use `spec()` to retrieve the full column specification for this data.\n",
      "\u001b[36mℹ\u001b[39m Specify the column types or set `show_col_types = FALSE` to quiet this message.\n",
      "\u001b[1mRows: \u001b[22m\u001b[34m5640\u001b[39m \u001b[1mColumns: \u001b[22m\u001b[34m5\u001b[39m\n",
      "\u001b[36m──\u001b[39m \u001b[1mColumn specification\u001b[22m \u001b[36m────────────────────────────────────────────────────────\u001b[39m\n",
      "\u001b[1mDelimiter:\u001b[22m \",\"\n",
      "\u001b[31mchr\u001b[39m (1): TeamName\n",
      "\u001b[32mdbl\u001b[39m (4): TeamID, Rating, num, Season\n",
      "\n",
      "\u001b[36mℹ\u001b[39m Use `spec()` to retrieve the full column specification for this data.\n",
      "\u001b[36mℹ\u001b[39m Specify the column types or set `show_col_types = FALSE` to quiet this message.\n"
     ]
    }
   ],
   "source": [
    "flaty_mens = read_csv('/Users/jimmyhe/Desktop/ML/KaggleCompetitions/NCAA/Feature_Eng/Flaty_Data_Ref/EloRating_mens_10.csv')\n",
    "flaty_womens = read_csv('/Users/jimmyhe/Desktop/ML/KaggleCompetitions/NCAA/Feature_Eng/Flaty_Data_Ref/EloRating_womens_10.csv')\n",
    "\n",
    "\n",
    "flaty_mens_sorted <- flaty_mens %>%\n",
    "  arrange(desc(Season), TeamName)\n",
    "\n",
    "\n",
    "flaty_womens_sorted <- flaty_womens %>%\n",
    "  arrange(desc(Season), TeamName)\n",
    "\n",
    "\n",
    "flaty_mens_sorted %>% write_csv(\"flaty_mens_sorted.csv\")\n",
    "flaty_womens_sorted %>% write_csv(\"flaty_womens_sorted.csv\")"
   ]
  },
  {
   "cell_type": "code",
   "execution_count": null,
   "id": "0d61a268",
   "metadata": {
    "vscode": {
     "languageId": "r"
    }
   },
   "outputs": [],
   "source": []
  }
 ],
 "metadata": {
  "kaggle": {
   "accelerator": "none",
   "dataSources": [
    {
     "databundleVersionId": 8023814,
     "sourceId": 70068,
     "sourceType": "competition"
    }
   ],
   "dockerImageVersionId": 30618,
   "isGpuEnabled": false,
   "isInternetEnabled": true,
   "language": "r",
   "sourceType": "notebook"
  },
  "kernelspec": {
   "display_name": "R",
   "language": "R",
   "name": "ir"
  },
  "language_info": {
   "codemirror_mode": "r",
   "file_extension": ".r",
   "mimetype": "text/x-r-source",
   "name": "R",
   "pygments_lexer": "r",
   "version": "4.2.3"
  },
  "papermill": {
   "default_parameters": {},
   "duration": 7652.828285,
   "end_time": "2024-04-18T02:21:28.807161",
   "environment_variables": {},
   "exception": null,
   "input_path": "__notebook__.ipynb",
   "output_path": "__notebook__.ipynb",
   "parameters": {},
   "start_time": "2024-04-18T00:13:55.978876",
   "version": "2.5.0"
  }
 },
 "nbformat": 4,
 "nbformat_minor": 5
}
